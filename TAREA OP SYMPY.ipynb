{
 "cells": [
  {
   "cell_type": "markdown",
   "id": "ca637242-07ce-4074-bdbb-11d62d9ebc34",
   "metadata": {},
   "source": [
    "1. El perímetro de un triángulo isósceles es de 20 cm. Imagina que este triángulo rota centrado en su eje de simetría para formar la ilusión de un cono"
   ]
  },
  {
   "cell_type": "markdown",
   "id": "c45f6f20-aa08-437b-986d-7e2d24053339",
   "metadata": {},
   "source": [
    "![](https://canvas.iteso.mx/courses/40654/files/8189383/preview)\n"
   ]
  },
  {
   "cell_type": "markdown",
   "id": "8019bb49-9fde-4844-8bf6-bc30a4970f07",
   "metadata": {},
   "source": [
    "¿Cuánto deben medir sus lados para que el volumen generado por la rotación sea el mayor posible?\r\n",
    "\r\n",
    " "
   ]
  },
  {
   "cell_type": "code",
   "execution_count": 23,
   "id": "89f4ef47-6525-48c3-9545-3a11fcc0cbc7",
   "metadata": {},
   "outputs": [
    {
     "data": {
      "text/latex": [
       "$\\displaystyle - \\frac{2 \\sqrt{30}}{3}$"
      ],
      "text/plain": [
       "-2*sqrt(30)/3"
      ]
     },
     "execution_count": 23,
     "metadata": {},
     "output_type": "execute_result"
    }
   ],
   "source": [
    "import sympy as sp\n",
    "import numpy as np\n",
    "sp.var(\"a\")\n",
    "sp.var(\"b\")\n",
    "sp.var(\"c\")\n",
    "a_b = sp.solve(a**2 + b**2 - 20, b)[0]\n",
    "c = sp.solve(a**2 + c**2 - b**2, c)\n",
    "c_b = c[1].subs(b, a_b)\n",
    "Vol=(sp.pi / 3) * a**2 * c[1]\n",
    "VM=Vol.subs(c[1], c_b).subs(b, a_b)\n",
    "dV=sp.diff(VM, a) \n",
    "pc=sp.solve(dV, a)[1]\n",
    "a_b.subs(a, pc)"
   ]
  },
  {
   "cell_type": "markdown",
   "id": "4ec95c5b-420c-4b76-b816-6fc283e5f6bf",
   "metadata": {},
   "source": [
    "2. Disponemos de una barra de aluminio de 6 metros para construir una portería de fútbol en un parque. Es una portería simple que tendrá sólo dos postes y el travesaño:"
   ]
  },
  {
   "cell_type": "code",
   "execution_count": 27,
   "id": "36c6a71c-09f8-4a44-bdd4-1ab563b74936",
   "metadata": {},
   "outputs": [
    {
     "data": {
      "text/latex": [
       "$\\displaystyle \\frac{3}{2}$"
      ],
      "text/plain": [
       "3/2"
      ]
     },
     "execution_count": 27,
     "metadata": {},
     "output_type": "execute_result"
    }
   ],
   "source": [
    "sp.var(\"a\")\n",
    "sp.var(\"c\")\n",
    "PERIMETRO = a + 2*c -6\n",
    "AREA = a*c\n",
    "a_c = sp.solve(PERIMETRO, a) [0]\n",
    "A = AREA.subs(a, a_c)\n",
    "DA = sp.diff(A, c)\n",
    "PC = sp.solve(DA, c) [0]\n",
    "PC"
   ]
  },
  {
   "cell_type": "markdown",
   "id": "6f7b2cc8-fcce-4239-833d-ce453c913313",
   "metadata": {},
   "source": [
    "H=1.5m de los postes laterales"
   ]
  },
  {
   "cell_type": "markdown",
   "id": "23eb16a0-db2b-499a-bedd-99a1316496f6",
   "metadata": {},
   "source": [
    "el poste superior debe ser = 3m"
   ]
  },
  {
   "cell_type": "code",
   "execution_count": null,
   "id": "20862dd5-e1c5-424b-b5cb-928e4776efb8",
   "metadata": {},
   "outputs": [],
   "source": []
  }
 ],
 "metadata": {
  "kernelspec": {
   "display_name": "Python 3 (ipykernel)",
   "language": "python",
   "name": "python3"
  },
  "language_info": {
   "codemirror_mode": {
    "name": "ipython",
    "version": 3
   },
   "file_extension": ".py",
   "mimetype": "text/x-python",
   "name": "python",
   "nbconvert_exporter": "python",
   "pygments_lexer": "ipython3",
   "version": "3.12.4"
  }
 },
 "nbformat": 4,
 "nbformat_minor": 5
}
