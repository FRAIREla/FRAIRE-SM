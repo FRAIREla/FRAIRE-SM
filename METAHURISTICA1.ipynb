{
 "cells": [
  {
   "cell_type": "code",
   "execution_count": 187,
   "id": "4f484921-a40c-4dec-b804-ef285efed51f",
   "metadata": {},
   "outputs": [],
   "source": [
    "import numpy as np\n",
    "import random as rd\n",
    "import pandas as pd\n"
   ]
  },
  {
   "cell_type": "code",
   "execution_count": 188,
   "id": "0b864cb4-5556-440a-942c-9b869c4e03b5",
   "metadata": {},
   "outputs": [
    {
     "data": {
      "text/plain": [
       "['GDL',\n",
       " 'León',\n",
       " 'México',\n",
       " 'Chihuahua',\n",
       " 'Tapachula',\n",
       " 'Tijuana',\n",
       " 'Monterrey',\n",
       " 'Mérida']"
      ]
     },
     "execution_count": 188,
     "metadata": {},
     "output_type": "execute_result"
    }
   ],
   "source": [
    "def ciudades_aleatorias1(ruta_archivo):\n",
    "    datos_excel = pd.read_excel(ruta_archivo, sheet_name = \"8c\")\n",
    "    ciudades = datos_excel.iloc[:,0].tolist()\n",
    "    return rd.sample(ciudades, len(ciudades))\n",
    "ruta_archivo = 'C:/Users/Eduardo/datosCT (2).xlsx'\n",
    "\n",
    "CD = ciudades_aleatorias1(ruta_archivo)\n",
    "ciudades_aleatorias1(ruta_archivo)\n",
    "\n",
    "R1 = CD\n",
    "\n",
    "R1"
   ]
  },
  {
   "cell_type": "code",
   "execution_count": 189,
   "id": "7558e64c-8cd3-4727-9091-77bf202fc332",
   "metadata": {},
   "outputs": [
    {
     "name": "stdout",
     "output_type": "stream",
     "text": [
      "(3, 0)\n"
     ]
    }
   ],
   "source": [
    "def funcion_a(R1):\n",
    "    \n",
    "    return np.random.randint(0,8)\n",
    "\n",
    "Ra = funcion_a(R1)\n",
    "Ra\n",
    "def funcion_b (R1):\n",
    "    \n",
    "    return np.random.randint(0,8)\n",
    "\n",
    "while Ra == Rb:\n",
    "    Rb = funcion_b(R1)\n",
    "\n",
    "Rb = funcion_b(R1)\n",
    "Rb\n",
    "print((Ra,Rb))"
   ]
  },
  {
   "cell_type": "code",
   "execution_count": 190,
   "id": "6bb39a6e-cfe1-43b6-9e4c-3171a2813eec",
   "metadata": {},
   "outputs": [],
   "source": [
    "R2 = R1[:]\n",
    "R2[Ra], R2[Rb] = R2[Rb], R2[Ra]\n",
    "    "
   ]
  },
  {
   "cell_type": "code",
   "execution_count": 191,
   "id": "b23d4df6-c8a2-436f-ab94-54ffe23dc209",
   "metadata": {},
   "outputs": [
    {
     "data": {
      "text/plain": [
       "['Chihuahua',\n",
       " 'León',\n",
       " 'México',\n",
       " 'GDL',\n",
       " 'Tapachula',\n",
       " 'Tijuana',\n",
       " 'Monterrey',\n",
       " 'Mérida']"
      ]
     },
     "execution_count": 191,
     "metadata": {},
     "output_type": "execute_result"
    }
   ],
   "source": [
    "R2"
   ]
  },
  {
   "cell_type": "code",
   "execution_count": 192,
   "id": "a44686cd-55ac-4eb9-8032-6b5a2f3c8055",
   "metadata": {},
   "outputs": [
    {
     "data": {
      "text/plain": [
       "15077"
      ]
     },
     "execution_count": 192,
     "metadata": {},
     "output_type": "execute_result"
    }
   ],
   "source": [
    "\n",
    "def distancia_total_R1(ruta_archivo):\n",
    "    excel_data = pd.read_excel(ruta_archivo,sheet_name=\"8c\")\n",
    "    excel_data.set_index(\"Unnamed: 0\", inplace = True)\n",
    "    distancia_R1 = 0\n",
    "    \n",
    "    for i in range(len(R1) - 1):\n",
    "        ciudad_origen = R1[i]\n",
    "        ciudad_destino = R1[i + 1]\n",
    "\n",
    "        \n",
    "        distancia_R1 +=  excel_data.loc[ciudad_origen, ciudad_destino]\n",
    "    distancia_R1 += excel_data.loc[R1[-1], R1[0]]\n",
    "    \n",
    "    return distancia_R1\n",
    "\n",
    "dist_R1=distancia_total_R1(ruta_archivo)\n",
    "dist_R1\n",
    "\n",
    "\n",
    "         "
   ]
  },
  {
   "cell_type": "code",
   "execution_count": 193,
   "id": "cc53fae0-5516-43e1-ad0f-055e3b677448",
   "metadata": {},
   "outputs": [
    {
     "data": {
      "text/plain": [
       "16022"
      ]
     },
     "execution_count": 193,
     "metadata": {},
     "output_type": "execute_result"
    }
   ],
   "source": [
    "def distancia_total_R2(ruta_archivo):\n",
    "    excel_data = pd.read_excel(ruta_archivo,sheet_name=\"8c\")\n",
    "    excel_data.set_index(\"Unnamed: 0\", inplace = True)\n",
    "    distancia_R2 = 0\n",
    "    \n",
    "    for i in range(len(R1) - 1):\n",
    "        ciudad_origen = R1[i]\n",
    "        ciudad_destino = R1[i + 1]\n",
    "        \n",
    "        \n",
    "        distancia_R2 += excel_data.loc[ciudad_origen, ciudad_destino]\n",
    "    distancia_R2 += excel_data.loc[R2[-1], R2[0]]\n",
    "    \n",
    "    return distancia_R2\n",
    "\n",
    "\n",
    "dist_R2=distancia_total_R2(ruta_archivo)\n",
    "dist_R2"
   ]
  },
  {
   "cell_type": "code",
   "execution_count": 194,
   "id": "e940cf6d-8c04-45ea-906f-9f5aa4b93234",
   "metadata": {},
   "outputs": [
    {
     "data": {
      "text/plain": [
       "0.9442686957326917"
      ]
     },
     "execution_count": 194,
     "metadata": {},
     "output_type": "execute_result"
    }
   ],
   "source": [
    "def funcion_p():\n",
    "    return np.random.uniform(0,1)\n",
    "\n",
    "p = funcion_p()\n",
    "p"
   ]
  },
  {
   "cell_type": "code",
   "execution_count": 195,
   "id": "49460583-f4a7-4374-9b1c-65996e941c20",
   "metadata": {},
   "outputs": [
    {
     "data": {
      "text/plain": [
       "0.38867957090175304"
      ]
     },
     "execution_count": 195,
     "metadata": {},
     "output_type": "execute_result"
    }
   ],
   "source": [
    "q = np.exp((dist_R1 - dist_R2)/1000)\n",
    "q"
   ]
  },
  {
   "cell_type": "code",
   "execution_count": 196,
   "id": "1c0fd3d8-05a3-4e0d-8bad-497ce4f8c22c",
   "metadata": {},
   "outputs": [
    {
     "name": "stdout",
     "output_type": "stream",
     "text": [
      "['GDL', 'León', 'México', 'Chihuahua', 'Tapachula', 'Tijuana', 'Monterrey', 'Mérida'] ['Chihuahua', 'León', 'México', 'GDL', 'Tapachula', 'Tijuana', 'Monterrey', 'Mérida']\n"
     ]
    }
   ],
   "source": [
    "def comparar_pq(p, q, R1, R2):\n",
    "    if p < q:\n",
    "        R1 = R2\n",
    "    return R1\n",
    "\n",
    "print(R1,R2)"
   ]
  },
  {
   "cell_type": "code",
   "execution_count": null,
   "id": "e2434dd6-93f5-4022-a059-5f1e5a9e8c72",
   "metadata": {},
   "outputs": [],
   "source": []
  },
  {
   "cell_type": "code",
   "execution_count": null,
   "id": "3a7d2a2e-d5b0-42b6-b191-8338e1883cb0",
   "metadata": {},
   "outputs": [],
   "source": []
  },
  {
   "cell_type": "code",
   "execution_count": null,
   "id": "d5f6de26-6205-4503-b008-b630e8576ced",
   "metadata": {},
   "outputs": [],
   "source": []
  },
  {
   "cell_type": "code",
   "execution_count": null,
   "id": "7b902853-f2e4-4449-8d54-ea9246817146",
   "metadata": {},
   "outputs": [],
   "source": []
  },
  {
   "cell_type": "code",
   "execution_count": null,
   "id": "c5cf9a14-447c-4a47-a842-e07b5dcf68d6",
   "metadata": {},
   "outputs": [],
   "source": []
  }
 ],
 "metadata": {
  "kernelspec": {
   "display_name": "Python 3 (ipykernel)",
   "language": "python",
   "name": "python3"
  },
  "language_info": {
   "codemirror_mode": {
    "name": "ipython",
    "version": 3
   },
   "file_extension": ".py",
   "mimetype": "text/x-python",
   "name": "python",
   "nbconvert_exporter": "python",
   "pygments_lexer": "ipython3",
   "version": "3.12.4"
  }
 },
 "nbformat": 4,
 "nbformat_minor": 5
}
