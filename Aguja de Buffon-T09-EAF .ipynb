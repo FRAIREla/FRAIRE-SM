{
 "cells": [
  {
   "cell_type": "markdown",
   "id": "c71de1f0-62b3-472c-a23c-e6a9a72df5a1",
   "metadata": {},
   "source": [
    "#### NOMBRE : **EDUARDO AGUIRRE FRAIRE**\n",
    "#### EXPEDIENTE : **751100**"
   ]
  },
  {
   "cell_type": "markdown",
   "id": "d0e104e2-b7fc-4ac1-a532-97e907e13a23",
   "metadata": {},
   "source": [
    "### ¿De qué trata?\n"
   ]
  },
  {
   "cell_type": "markdown",
   "id": "53c9cd30-e8f6-4e35-b80d-7274cf9d5246",
   "metadata": {},
   "source": [
    "##### **Problema que aplica la probabilidad con geomatría, donde se dejan caer agujas al azar y luego se cuentan las agujas que cruzaron las lineas, donde d = el la distancia de separacion entre estas lineas paralelas y l = es la longitud de cada linea.**"
   ]
  },
  {
   "cell_type": "markdown",
   "id": "c6d83d4e-04fe-4041-b358-e130ee4cde6d",
   "metadata": {},
   "source": [
    "### Explica la solución con cálculo integral usando tus palabras."
   ]
  },
  {
   "cell_type": "markdown",
   "id": "5f7922a6-4987-4e5e-bad8-f8bd5fe3a330",
   "metadata": {},
   "source": [
    "##### **Para empesar a explicar esta solucion debemos de tener en cuenta que tendremos 2 variables importantes x y 𝜃, la cual x representara la distancia entre el centro de la aguja y la linea mas cercana y 𝜃 el angulo entre la aguja y la linea paralela, teniendo esto en cuenta definiremos nuestra proyecion perpendicula x <= 1/2 sin (𝜃), esto representa la distancia maxima a la que puede estar cualquier extremo de la aguja al centro, lo que integrariamos seria la probabilidad de que cruce sobre todos los valores posibles de 𝜃 y x, en función de sus densidades de probabilidad.**\n",
    "\n"
   ]
  },
  {
   "cell_type": "markdown",
   "id": "b0af4ce2-b640-4341-95d8-b44dd2c80f78",
   "metadata": {},
   "source": [
    "### Explica la solución sin cálculo integral usando tus palabras"
   ]
  },
  {
   "cell_type": "markdown",
   "id": "0a0c2fe2-25df-4cba-b250-b270fc8da3f4",
   "metadata": {},
   "source": [
    "##### **La aguja puede caer en cualquier ángulo y posición, y cada orientación tiene la misma probabilidad de ocurrir. Si la aguja es lo suficientemente corta (es decir,  l <= d), una parte significativa de las posiciones y ángulos en que cae hará que cruce una línea.**"
   ]
  },
  {
   "cell_type": "markdown",
   "id": "f7182bce-50f3-472f-9b25-5816d1e47709",
   "metadata": {},
   "source": [
    "## code\n"
   ]
  },
  {
   "cell_type": "code",
   "execution_count": 2,
   "id": "e32bc88f-4700-4127-bf4a-5f11ed0c5f2f",
   "metadata": {},
   "outputs": [
    {
     "data": {
      "text/plain": [
       "(0.5178, 0.5092958178940651)"
      ]
     },
     "execution_count": 2,
     "metadata": {},
     "output_type": "execute_result"
    }
   ],
   "source": [
    "import numpy as np\n",
    "\n",
    "n = 10000\n",
    "l = 8\n",
    "d = 10\n",
    "a1 = np.pi\n",
    "d1 = d / 2\n",
    "\n",
    "def ADB(n, l, d):\n",
    "    𝜃 = np.random.uniform(0, a1, n)\n",
    "    x = np.random.uniform(0, d1, n)\n",
    "    cruce = x <= (l / 2) * np.sin(𝜃)\n",
    "    prob_expe = np.mean(cruce)  \n",
    "    prob_teo = (2 * l) / (np.pi * d)\n",
    "    return prob_expe, prob_teo\n",
    "\n",
    "# Llamada a la función\n",
    "prob_exp, prob_teo = ADB(n, l, d)\n",
    "prob_exp, prob_teo"
   ]
  },
  {
   "cell_type": "code",
   "execution_count": 3,
   "id": "7d59d9d8-5d70-40de-8a5b-b7b6d40dedfd",
   "metadata": {},
   "outputs": [],
   "source": [
    "# (proporción de veces que las agujas lanzadas cruzaron una de las líneas, cálculo de la probabilidad teórica de cruce)"
   ]
  },
  {
   "cell_type": "code",
   "execution_count": null,
   "id": "a21a8251-005a-46e4-a5a6-821aac7353f6",
   "metadata": {},
   "outputs": [],
   "source": []
  }
 ],
 "metadata": {
  "kernelspec": {
   "display_name": "Python 3 (ipykernel)",
   "language": "python",
   "name": "python3"
  },
  "language_info": {
   "codemirror_mode": {
    "name": "ipython",
    "version": 3
   },
   "file_extension": ".py",
   "mimetype": "text/x-python",
   "name": "python",
   "nbconvert_exporter": "python",
   "pygments_lexer": "ipython3",
   "version": "3.12.4"
  }
 },
 "nbformat": 4,
 "nbformat_minor": 5
}
