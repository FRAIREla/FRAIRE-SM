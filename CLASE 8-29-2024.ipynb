{
 "cells": [
  {
   "cell_type": "markdown",
   "id": "9cdefd2f-e5cc-4087-9bf1-7f761b31f6b8",
   "metadata": {},
   "source": [
    "# Utiliza sympy y encuentra los valores de las incógnitas que hagan que los siguientes sistemas de ecuaciones sean verdaderos:"
   ]
  },
  {
   "cell_type": "markdown",
   "id": "ff2cd835-b559-4543-a753-b6730c034946",
   "metadata": {},
   "source": [
    "![](https://canvas.iteso.mx/courses/40654/files/8189240/preview)\n",
    "\n",
    "![](https://canvas.iteso.mx/courses/40654/files/8189267/preview)\n",
    "\n",
    "![](https://canvas.iteso.mx/courses/40654/files/8189303/preview)\n",
    "\n",
    "![](https://canvas.iteso.mx/courses/40654/files/8189338/preview)\n"
   ]
  },
  {
   "cell_type": "code",
   "execution_count": 7,
   "id": "56b55a90-d61c-4c34-ac82-cbea480fdf74",
   "metadata": {},
   "outputs": [],
   "source": []
  },
  {
   "cell_type": "code",
   "execution_count": 10,
   "id": "6f63dcfc-4aa0-4c97-957b-c0a300a72293",
   "metadata": {},
   "outputs": [
    {
     "data": {
      "text/plain": [
       "{x: 6, y: 4}"
      ]
     },
     "execution_count": 10,
     "metadata": {},
     "output_type": "execute_result"
    }
   ],
   "source": [
    "import sympy as sp\n",
    "x, y = sp.symbols(\"x, y\")\n",
    "ecu1 = sp.Eq(x + y,10)\n",
    "ecu2 = sp.Eq(x-y,2)\n",
    "solve = sp.solve((ecu1, ecu2),(x,y))\n",
    "solve"
   ]
  },
  {
   "cell_type": "code",
   "execution_count": 16,
   "id": "20bf797a-df51-47a7-abcf-98e25a3e2132",
   "metadata": {},
   "outputs": [
    {
     "data": {
      "text/plain": [
       "{x: 1.00000000000000, y: 1.00000000000000}"
      ]
     },
     "execution_count": 16,
     "metadata": {},
     "output_type": "execute_result"
    }
   ],
   "source": [
    "import sympy as sp\n",
    "x, y = sp.symbols(\"x, y\")\n",
    "ecu1 = sp.Eq((3*x-2*y)/3+4*y,13/3)\n",
    "ecu2 = sp.Eq(2*(-2*y+x)/3-3*x/2,-13/6)\n",
    "solve = sp.solve((ecu1, ecu2),(x,y))\n",
    "solve"
   ]
  },
  {
   "cell_type": "code",
   "execution_count": 17,
   "id": "8fbfbb96-b17e-424b-ae96-f9a12a596860",
   "metadata": {},
   "outputs": [
    {
     "data": {
      "text/plain": [
       "[(1 - sqrt(11), -sqrt(11) - 2), (1 + sqrt(11), -2 + sqrt(11))]"
      ]
     },
     "execution_count": 17,
     "metadata": {},
     "output_type": "execute_result"
    }
   ],
   "source": [
    "import sympy as sp\n",
    "x, y = sp.symbols(\"x, y\")\n",
    "ecu1 = sp.Eq(x**2-2*y,16)\n",
    "ecu2 = sp.Eq(x-y,3)\n",
    "solve = sp.solve((ecu1, ecu2),(x,y))\n",
    "solve"
   ]
  },
  {
   "cell_type": "code",
   "execution_count": 18,
   "id": "e2f27036-f87f-4ac7-a7a3-5bce19d47925",
   "metadata": {},
   "outputs": [
    {
     "data": {
      "text/plain": [
       "{x: 4, y: 2, z: -4}"
      ]
     },
     "execution_count": 18,
     "metadata": {},
     "output_type": "execute_result"
    }
   ],
   "source": [
    "import sympy as sp\n",
    "x, y, z = sp.symbols(\"x, y, z\")\n",
    "ecu1 = sp.Eq(x+y-z,10)\n",
    "ecu2 = sp.Eq(x-y,2)\n",
    "ecu3 = sp.Eq(y+z,-2)\n",
    "solve = sp.solve((ecu1, ecu2, ecu3),(x,y,z))\n",
    "solve"
   ]
  },
  {
   "cell_type": "markdown",
   "id": "29190da8-0c71-473b-8848-ef731753b7f4",
   "metadata": {},
   "source": [
    "# Encuentra los puntos críticos usando cálculo diferencial, decide si son máximos o mínimos usando el criterio de la segunda derivada, y grafica para decidir se son óptimos locales o globales:"
   ]
  },
  {
   "cell_type": "markdown",
   "id": "440e4628-2517-46a2-90b5-d6643da98dc5",
   "metadata": {},
   "source": [
    "![](https://canvas.iteso.mx/courses/40654/files/8189215/preview)\n",
    "\n",
    "![](https://canvas.iteso.mx/courses/40654/files/8189220/preview)\n",
    "\n",
    "![](https://canvas.iteso.mx/courses/40654/files/8189226/preview)\n",
    "\n",
    "![](https://canvas.iteso.mx/courses/40654/files/8189228/preview)"
   ]
  },
  {
   "cell_type": "code",
   "execution_count": 30,
   "id": "09dfe8f3-e9e3-4a2b-bf9d-d7586826663c",
   "metadata": {},
   "outputs": [
    {
     "data": {
      "text/latex": [
       "$\\displaystyle 113 - 12 x$"
      ],
      "text/plain": [
       "113 - 12*x"
      ]
     },
     "execution_count": 30,
     "metadata": {},
     "output_type": "execute_result"
    }
   ],
   "source": [
    "de1 = sp.diff(1235+113*x-6*x**2,x)\n",
    "de2= sp.diff(1235+113*x-6*x**2,x,2)\n",
    "de1"
   ]
  },
  {
   "cell_type": "code",
   "execution_count": null,
   "id": "51a18b97-f200-4f76-9dba-78b02ced65cf",
   "metadata": {},
   "outputs": [],
   "source": [
    "de1 = sp.diff(1235+113*x-6*x**2,x)\n",
    "de2= sp.diff(1235+113*x-6*x**2,x,2)\n",
    "de2 and de1"
   ]
  }
 ],
 "metadata": {
  "kernelspec": {
   "display_name": "Python 3 (ipykernel)",
   "language": "python",
   "name": "python3"
  },
  "language_info": {
   "codemirror_mode": {
    "name": "ipython",
    "version": 3
   },
   "file_extension": ".py",
   "mimetype": "text/x-python",
   "name": "python",
   "nbconvert_exporter": "python",
   "pygments_lexer": "ipython3",
   "version": "3.12.4"
  }
 },
 "nbformat": 4,
 "nbformat_minor": 5
}
