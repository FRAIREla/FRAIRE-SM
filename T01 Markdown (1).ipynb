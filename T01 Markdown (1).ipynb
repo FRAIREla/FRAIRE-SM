{
 "cells": [
  {
   "cell_type": "code",
   "execution_count": null,
   "id": "1af7d7f5-b2fd-4607-b664-1fd23e6edfe7",
   "metadata": {},
   "outputs": [],
   "source": [
    "Ed"
   ]
  },
  {
   "cell_type": "markdown",
   "id": "aac4136f-160e-4f63-a6c0-4e0f8e925737",
   "metadata": {},
   "source": [
    "# Fórmula General"
   ]
  },
  {
   "cell_type": "markdown",
   "id": "35153569-7ce2-46f2-9a59-409b35f1adea",
   "metadata": {},
   "source": [
    "La fórmula general es una **expresión matemática** que permite obtener el valor de una incógnita en distintos casos particulares, se utiliza para resolver ecuaciones de **segundo grado**, que son de la forma: "
   ]
  },
  {
   "cell_type": "markdown",
   "id": "9f5344da-9f85-4fe9-a5d8-5e88b6284952",
   "metadata": {},
   "source": [
    "$$ ax^{2} + bx + c = 0 $$"
   ]
  },
  {
   "cell_type": "markdown",
   "id": "cbae9605-06a5-4a1e-a9a8-4edcc7e45027",
   "metadata": {},
   "source": [
    "donde **a**, **b** y **c** son números reales y **a** es diferente de 0."
   ]
  },
  {
   "cell_type": "markdown",
   "id": "121b9dd7-676a-40b8-a097-7575a3eacd8d",
   "metadata": {},
   "source": [
    "# *Ecuación de la <u>fórmula general </u>*"
   ]
  },
  {
   "cell_type": "markdown",
   "id": "cb305440-6ccd-4d16-8143-d8ca87c7df19",
   "metadata": {},
   "source": [
    "![](https://th.bing.com/th/id/R.9dd3abc5e0a421e77a236b68afd0df2b?rik=G%2fz0KGStNLoscw&pid=ImgRaw&r=0)"
   ]
  },
  {
   "cell_type": "markdown",
   "id": "09e25ee2-fb52-4a87-84af-07302d4c24dd",
   "metadata": {},
   "source": [
    "# *Datos interesantes*"
   ]
  },
  {
   "cell_type": "markdown",
   "id": "b425953e-2cd2-4b97-bc92-963b3d1638d4",
   "metadata": {},
   "source": [
    "<ul style = \"list-style-type:upper-roman;\">\n",
    "<li> Se destaca por su aplicabilidad en diversos contextos, como en geometría para hallar perímetros o áreas de figuras geométricas.</li>\n",
    "<li> Diophanti Alexandrini aportó un procedimiento para dar solución a este tipo de ecuaciones.</li>\n",
    "<li> Dicha aportación fue realizada en Grecia. </li>"
   ]
  },
  {
   "cell_type": "code",
   "execution_count": null,
   "id": "91ab2025-2e72-4095-a6c1-dfb0d70e0979",
   "metadata": {},
   "outputs": [],
   "source": []
  }
 ],
 "metadata": {
  "kernelspec": {
   "display_name": "Python 3 (ipykernel)",
   "language": "python",
   "name": "python3"
  },
  "language_info": {
   "codemirror_mode": {
    "name": "ipython",
    "version": 3
   },
   "file_extension": ".py",
   "mimetype": "text/x-python",
   "name": "python",
   "nbconvert_exporter": "python",
   "pygments_lexer": "ipython3",
   "version": "3.12.4"
  }
 },
 "nbformat": 4,
 "nbformat_minor": 5
}
