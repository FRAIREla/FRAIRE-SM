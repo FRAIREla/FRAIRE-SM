{
 "cells": [
  {
   "cell_type": "markdown",
   "id": "d76090e0-e6ed-4b3a-ad35-951cb1621ca2",
   "metadata": {},
   "source": [
    "# Problema del viajante"
   ]
  },
  {
   "cell_type": "markdown",
   "id": "b614eba1-92a2-4a90-b174-c3de5f619c89",
   "metadata": {},
   "source": [
    "Crédito al profesor **Fernando Ignacio Becerra López**. Actividad adaptada de su curso IDI1."
   ]
  },
  {
   "cell_type": "code",
   "execution_count": 160,
   "id": "a88b7e41-9e2a-4249-97f7-c20586c76371",
   "metadata": {},
   "outputs": [],
   "source": [
    "import pandas as pd\n",
    "import random as rd\n",
    "import openpyxl as op"
   ]
  },
  {
   "cell_type": "markdown",
   "id": "a8cf7c21-5c1a-45bf-a905-72a23bc42de2",
   "metadata": {},
   "source": [
    "## Planteamiento"
   ]
  },
  {
   "cell_type": "markdown",
   "id": "a129754f-fecf-4473-a599-ed25bacd6994",
   "metadata": {},
   "source": [
    "Eres un agente de viajes / alguien que quiere viajar, y tienes una lista de ciudades destino. Quieres planear una ruta cíclica que visite todas las ciudades, pero quieres optimizar o tiempo de viaje o costos de viaje (o una combinación de ambas).\n",
    "\n",
    "¿Cuál es el mejor orden para visitar todas estas ciudades?"
   ]
  },
  {
   "cell_type": "markdown",
   "id": "4e92e822-22c0-4976-9f6e-a37f4c74f831",
   "metadata": {},
   "source": [
    "1. Toma el archivo `datosCT.xlsx` y lee la hoja `8c` utilizando `pandas`.\n",
    "\n",
    "`nombre_de_variable = pd.read_excel(\"datosCT.xlsx\", sheet_name=\"8c\").set_index(\"Unnamed: 0\")`\n",
    "\n",
    "Imprime la tabla resultante."
   ]
  },
  {
   "cell_type": "code",
   "execution_count": 161,
   "id": "5e873f05-a919-4380-b160-cb1c4606ea39",
   "metadata": {},
   "outputs": [],
   "source": [
    "\n",
    "tabla_datos_viajes = pd.read_excel(\"datosCT (1).xlsx\",sheet_name=\"8c\").set_index(\"Unnamed: 0\")"
   ]
  },
  {
   "cell_type": "code",
   "execution_count": 162,
   "id": "f8debbf4-bd16-49d2-bc0d-9288954daac3",
   "metadata": {},
   "outputs": [],
   "source": [
    "#pd.read_excel manda a llamar a al archivo en este caso \"datosCT.xlsx\"\n",
    "#sheet_name=\"8c\" llamamos a la hoja en la que queremos hacer los cambios \"8c\"\n",
    "#set_index(\"unnamed: 0 \") Esta parte utiliza el método set_index para configurar la columna llamada \"unnamed: 0\" como el índice del DataFrame.\n",
    "\n"
   ]
  },
  {
   "cell_type": "markdown",
   "id": "57788b70-c8a2-427a-9468-6c802086275b",
   "metadata": {},
   "source": [
    "La tabla contiene una matriz de la distancia de recorrido entre cada ciudad. Por ejemplo, si quiero saber la distancia entre Tijuana y Tapachula busco el renglón Tijuana y la columna Tapachula / la columna Tijuana y el renglón Tapachula.\n",
    "\n",
    "2. Crea una función que retorne las ciudades de la tabla en un orden aleatorio."
   ]
  },
  {
   "cell_type": "code",
   "execution_count": 163,
   "id": "6bc4a556-15e9-4cab-8552-bb5aa5bc0604",
   "metadata": {},
   "outputs": [
    {
     "data": {
      "text/plain": [
       "['Chihuahua',\n",
       " 'Tijuana',\n",
       " 'Mérida',\n",
       " 'GDL',\n",
       " 'León',\n",
       " 'Tapachula',\n",
       " 'México',\n",
       " 'Monterrey']"
      ]
     },
     "execution_count": 163,
     "metadata": {},
     "output_type": "execute_result"
    }
   ],
   "source": [
    "\n",
    "def ciudades_aleatorias1(ruta_archivo):\n",
    "    datos_excel = pd.read_excel(ruta_archivo, sheet_name = \"8c\")\n",
    "    ciudades = datos_excel.iloc[:,0].tolist()\n",
    "    return rd.sample(ciudades, len(ciudades))\n",
    "ruta_archivo = 'C:/Users/Eduardo/datosCT (1).xlsx'\n",
    "ciudades_aleatorias1(ruta_archivo)\n",
    "                        \n",
    "\n",
    "        \n",
    "\n",
    "    "
   ]
  },
  {
   "cell_type": "code",
   "execution_count": 164,
   "id": "8225a15f-aa0e-42e2-9389-2ae62187af10",
   "metadata": {},
   "outputs": [],
   "source": [
    "#el comando .iloc selecciona la primera columna de datos_excel\n",
    "\n",
    "#datos_excel contiene los nombres de la ciudades\n",
    "\n",
    "#con iloc[:,0] seleccionamos todas las filas de la primera columna \"Unnamed: 0\" \n",
    "   #iloc[:, 0] es una forma de seleccionar datos en un DataFrame\n",
    "   #La sintaxis básica es DataFrame.iloc[filas, columnas]\n",
    "   #: en el primer lugar (filas) significa \"selecciona todas las filas\"\n",
    "   #0 en el segundo lugar (columnas) significa \"selecciona la primera columna\"\n",
    "\n",
    "#con random.sample seleccionamos todos los elementos de \"ciudades\" en un orden aleatorio\n",
    "   #\"(len(ciudades)\" es el numero de elementos que queremos en la muestra\n",
    "   #La función \"sample\" devuelve una nueva lista en un orden aleatorio,\n",
    "    #sin modificar la lista original. Finalmente, la función retorna esta lista aleatoria.\n",
    "#definimos \"ruta_archivo\" = la ubicacion de nuestro archivo, esta la podemos encontrar en el menu de propiedades del archivo"
   ]
  },
  {
   "cell_type": "markdown",
   "id": "e04e03f2-740b-48f6-8903-f09d6b940782",
   "metadata": {},
   "source": [
    "3. Crea una función que dadas dos ciudades te indique la distancia entre ellas."
   ]
  },
  {
   "cell_type": "code",
   "execution_count": 165,
   "id": "a1b46a2e-c1a4-4610-aae9-37cb3b2b8ebc",
   "metadata": {},
   "outputs": [
    {
     "name": "stdout",
     "output_type": "stream",
     "text": [
      "La distancia entre México y GDL es de 542 kilometros.\n"
     ]
    }
   ],
   "source": [
    "\n",
    "def dist_entre_ciudades(c1,c2):\n",
    "    excel_data = pd.read_excel(ruta_archivo,sheet_name=\"8c\")\n",
    "    excel_data.set_index(\"Unnamed: 0\", inplace = True)\n",
    "    try:\n",
    "        distancia = excel_data.loc[c1,c2]\n",
    "        print(f\"La distancia entre {c1} y {c2} es de {distancia} kilometros.\")\n",
    "    except KeyError:\n",
    "        print(\" La ciudad no se encuentra en la tabla. \")\n",
    "\n",
    "dist_entre_ciudades(\"México\",\"GDL\")"
   ]
  },
  {
   "cell_type": "code",
   "execution_count": 166,
   "id": "d9660024-ca0a-4802-8379-0090c1732d37",
   "metadata": {},
   "outputs": [],
   "source": [
    "#Notas: Recordar bien la ubi de nuestro archivo y tener cuidado en no cambiarle el indice a nuestra columna\n",
    "#Usamos try y except para manejar posibles errores en caso de que alguna de las ciudades no esté en la tabla.\n",
    "#excel_data.loc[c1, c2] accede a la distancia entre c1 y c2 usando sus nombres. \n",
    "#Si alguna de las ciudades no está en la tabla, se genera un KeyError y el mensaje \" La ciudad no se encuentra en la tabla.\n",
    "#El modo en el que se usa es poniendo el nombre de las ciudades en dist_entre_ciudades(\"Chihuahua\",\"GDL\")"
   ]
  },
  {
   "cell_type": "markdown",
   "id": "d081dc58-5886-4c90-a42f-ed52e9edc10f",
   "metadata": {},
   "source": [
    "4. Crea una función que calcule la distancia total de recorrer una lista de ciudades:\n",
    "    - $C1 → C2 + C2 → C3 + ... + C_{n-1} → C_n + C_n → C_1$"
   ]
  },
  {
   "cell_type": "code",
   "execution_count": 167,
   "id": "527b40de-279b-4048-b162-4988182c1d85",
   "metadata": {},
   "outputs": [
    {
     "name": "stdout",
     "output_type": "stream",
     "text": [
      "La distancia total para recorrer ['GDL', 'México', 'Mérida', 'Monterrey', 'Tijuana', 'Tapachula', 'León', 'Chihuahua'] y regresar al inicio es de 14220 kilómetros.\n"
     ]
    }
   ],
   "source": [
    "ciudades_aleatorias = ciudades_aleatorias1(ruta_archivo)\n",
    "def distancia_total_ciudades(ruta_archivo):\n",
    "    excel_data = pd.read_excel(ruta_archivo,sheet_name=\"8c\")\n",
    "    excel_data.set_index(\"Unnamed: 0\", inplace = True)\n",
    "    distancia_total = 0\n",
    "    \n",
    "    for i in range(len(ciudades_aleatorias) - 1):\n",
    "        ciudad_origen = ciudades_aleatorias[i]\n",
    "        ciudad_destino = ciudades_aleatorias[i + 1]\n",
    "        \n",
    "        try:\n",
    "            distancia_total += excel_data.loc[ciudad_origen, ciudad_destino]\n",
    "        except KeyError:\n",
    "            return \"La ciudades ingresadas no se encuentra en la tabla.\"\n",
    "    \n",
    "    \n",
    "    try:\n",
    "        distancia_total += excel_data.loc[ciudades_aleatorias[-1], ciudades_aleatorias[0]]\n",
    "    except KeyError:\n",
    "        return \"Las ciudades ingresadas no se encuentra en la tabla.\"\n",
    "    \n",
    "    return f\"La distancia total para recorrer {ciudades_aleatorias} y regresar al inicio es de {distancia_total} kilómetros.\"\n",
    "\n",
    "\n",
    "print(distancia_total_ciudades(ruta_archivo))\n",
    "        "
   ]
  },
  {
   "cell_type": "code",
   "execution_count": null,
   "id": "2b23926f-d5a1-43a1-bfd3-f2da8e2f45cd",
   "metadata": {},
   "outputs": [],
   "source": [
    "#Lo que hicimos fue hacer una variable con nuentra funcion que creaba una lista aletoria tomada del excel \n",
    "#Nuestra variable  \"distancia_total\" la iniciamos en 0 y almacenara la suma de las distancias\n",
    "# iniciamos un ciclo for i in range(len(ciudades_aleatorias) - 1): que recorrera todos los indices hasta el penultimo (-1)\n",
    "# En cada repeticion de nuestro ciclo nuestra variable \"ciudad_origen\" se actualizara como la ciudad en la que estamos (ciudades_aleatorias[i])\n",
    "# y ciudad_destino como la siguiente ciudad en la lista (ciudades_aleatorias[i + 1]).\n",
    "#El bloque try intenta obtener la distancia entre ciudad_origen y ciudad_destino del DataFrame excel_data usando excel_data.loc[ciudad_origen, ciudad_destino].\n",
    "#El bloque (except KeyError) nos regresara un mensaje, por lo pronto no nos servira, porque sabemos que todas las ciudades de ciudades_aleatorias1(ruta_archivo) estan en la tabla\n",
    " #pero si queremos actualizar la tabla en un futuro, nos ayudara\n",
    "#Una vez terminado el bucle, este bloque try intenta agregar la distancia entre la última ciudad (ciudades_aleatorias[-1]) y la primera ciudad (ciudades_aleatorias[0]) para cerrar el ciclo de regreso a la ciudad inicial."
   ]
  },
  {
   "cell_type": "markdown",
   "id": "c5201501-d413-4091-8c45-facfcd7e81bc",
   "metadata": {},
   "source": [
    "5. Genera una lista con 100 listas de ciudades generadas con permutaciones aleatorias (no importa si hay repetidas)"
   ]
  },
  {
   "cell_type": "code",
   "execution_count": 169,
   "id": "45cc9051-1fed-4066-bac0-31e67c03bdbc",
   "metadata": {},
   "outputs": [],
   "source": [
    "def generar_espacio_rutas(ruta_archivo):\n",
    "    \n",
    "    espacio_rutas = {}\n",
    "    \n",
    "    for i in range(1,101):\n",
    "        ciudades_aleatorias = ciudades_aleatorias1(ruta_archivo)\n",
    "        espacio_rutas[f'u{i}'] = ciudades_aleatorias\n",
    "        \n",
    "\n",
    "    Rutas_DF = pd.DataFrame(espacio_rutas)\n",
    "\n",
    "    \n",
    "    try:\n",
    "        \n",
    "        book = op.load_workbook(ruta_archivo)\n",
    "        \n",
    "        with pd.ExcelWriter(ruta_archivo, engine=\"openpyxl\", mode=\"a\",if_sheet_exists=\"replace\") as writer:\n",
    "            op.writer.book = book\n",
    "                \n",
    "            Rutas_DF.to_excel(writer, sheet_name=\"Rutas\", index=False)\n",
    "            \n",
    "    except FileNotFoundError:\n",
    "        with pd.ExcelWriter(ruta_archivo, engine=\"openpyxl\") as writer:\n",
    "            Rutas_DF.to_excel(writer, sheet_name=\"Rutas\", index=False)\n",
    "            \n",
    "\n",
    "ruta_archivo = 'C:/Users/Eduardo/datosCT (1).xlsx'\n",
    "generar_espacio_rutas(ruta_archivo)"
   ]
  },
  {
   "cell_type": "markdown",
   "id": "576ac4de-b21e-40c8-bfae-984c19550fad",
   "metadata": {},
   "source": [
    "### **En este problema pensé mas en hacer una base de datos que me iba a sirviera mas a la hora de hacer los cálculos y quería que se estuviera actualizando cada vez que se corriera el código, entonces todos los valores son nuevos cada que se corre el código , en resumidas cuentas este código genera un espacio conformado por 100 matices de 8x1 a las cuales llamamos u1,u2,u3,u4,...,u100.**"
   ]
  },
  {
   "cell_type": "code",
   "execution_count": null,
   "id": "8dcead40-f403-48cf-aef0-6862ca4f840a",
   "metadata": {},
   "outputs": [],
   "source": [
    "# NOTAS: El codigo se debe de correr con el excel apagado "
   ]
  },
  {
   "cell_type": "code",
   "execution_count": 170,
   "id": "3044b846-a8d4-4387-a7bd-3e163557a65e",
   "metadata": {},
   "outputs": [],
   "source": [
    "def CD1(ciudades, ruta_archivo):\n",
    "    excel_data = pd.read_excel(ruta_archivo, sheet_name=\"8c\")\n",
    "    excel_data.set_index(\"Unnamed: 0\", inplace=True)\n",
    "    distancia_total = 0\n",
    "    \n",
    "    for i in range(len(ciudades) - 1):\n",
    "        ciudad_origen = ciudades[i]\n",
    "        ciudad_destino = ciudades[i + 1]\n",
    "        \n",
    "        try:\n",
    "            distancia_total += excel_data.loc[ciudad_origen, ciudad_destino]\n",
    "        except KeyError:\n",
    "            return \"La ciudad ingresada no se encuentra en la tabla.\"\n",
    "    \n",
    "\n",
    "    try:\n",
    "        distancia_total += excel_data.loc[ciudades[-1], ciudades[0]]\n",
    "    except KeyError:\n",
    "        return \"La ciudad ingresada no se encuentra en la tabla.\"\n",
    "    \n",
    "    return distancia_total"
   ]
  },
  {
   "cell_type": "markdown",
   "id": "be18bda4-c7cb-4d18-b100-e872ed4ad29a",
   "metadata": {},
   "source": [
    "#### NOTA: Aquí replicamos la función \"def distancia_total_ciudades(ruta_archivo):\" solo que le cambiamos de nombre y le agregamos valores a su estructura(2), no lo hice con la función porque esta ligada a mi código anterior."
   ]
  },
  {
   "cell_type": "code",
   "execution_count": 171,
   "id": "63dbb81d-8248-4e5c-8dd9-579c19543eb6",
   "metadata": {},
   "outputs": [],
   "source": [
    "\n",
    "def total_recorrido_lista(ruta_archivo):\n",
    "    total_df = pd.read_excel(ruta_archivo, sheet_name=\"Rutas\")\n",
    "    dist_total_lista = []\n",
    "\n",
    "    \n",
    "    for columna in total_df.columns:\n",
    "        ciudades = total_df[columna].dropna().tolist()\n",
    "        distancia = CD1(ciudades, ruta_archivo)\n",
    "        dist_total_lista.append(distancia)\n",
    "        \n",
    "    book = op.load_workbook(ruta_archivo)\n",
    "    sheet = book[\"Rutas\"]\n",
    "    \n",
    "    \n",
    "    for i, distancia in enumerate(dist_total_lista,start=1):\n",
    "        sheet.cell(row=10, column=i , value= distancia)\n",
    "\n",
    "    book.save(ruta_archivo)\n",
    "    \n",
    "\n",
    "\n",
    "total_recorrido_lista(ruta_archivo)        "
   ]
  },
  {
   "cell_type": "markdown",
   "id": "57ad1336-1bd0-42b8-aab5-177223de3787",
   "metadata": {},
   "source": [
    "#### NOTA: Aquí calculábamos la distancia recorrida de cada una de nuestras matrices con un ciclo for desde la matriz u1 hasta u100 y luego colocábamos el valor en nuestra base de datos, en la hoja llamada \"Rutas\" en la fila 10."
   ]
  },
  {
   "cell_type": "markdown",
   "id": "c7326a12-a09b-497f-bd57-90f190ecd5d7",
   "metadata": {},
   "source": [
    "6. Calcula la distancia total de todas las rutas generadas y guarda la información en otra lista."
   ]
  },
  {
   "cell_type": "code",
   "execution_count": 172,
   "id": "5ad7df8b-3eba-42f5-a16b-3f4672a6fd68",
   "metadata": {},
   "outputs": [],
   "source": [
    "def suma_total_recorridos(ruta_archivo):\n",
    "    book = op.load_workbook(ruta_archivo)\n",
    "    sheet = book[\"Rutas\"]\n",
    "    \n",
    "    total_recorrido = 0\n",
    "    for col in range (1,101):\n",
    "        valor = sheet.cell(row=10,column=col).value\n",
    "        if isinstance(valor, (int, float)):  \n",
    "            total_recorrido += valor\n",
    "\n",
    "    if \"RESULTADOS\" in book.sheetnames:\n",
    "        del book[\"RESULTADOS\"]\n",
    "        \n",
    "    resultados_sheet = book.create_sheet(title=\"RESULTADOS\")\n",
    "\n",
    "    resultados_sheet[\"B4\"] = \"Sumatoria_dit_u\"\n",
    "    resultados_sheet[\"B5\"] = total_recorrido\n",
    "    resultados_sheet[\"C5\"] = \"kilometros\"\n",
    "    \n",
    "    book.save(ruta_archivo)\n",
    "\n",
    "suma_total_recorridos(ruta_archivo)\n"
   ]
  },
  {
   "cell_type": "markdown",
   "id": "e877e938-f9f2-4f54-8236-f297b7f422eb",
   "metadata": {},
   "source": [
    "#### NOTA: Aquí sumábamos todos los recorridos de nuestra matrices, hacemos un hoja de resultado y los insertamos ahí.  "
   ]
  },
  {
   "cell_type": "markdown",
   "id": "110f4bf1-8ba2-44bb-af76-1ab1411ccdf6",
   "metadata": {},
   "source": [
    "7. ¿Cuál fue la mejor ruta? Compara con tus compañeros"
   ]
  },
  {
   "cell_type": "code",
   "execution_count": 188,
   "id": "f7e21c99-2cd9-4321-abc8-f7f12d450c6e",
   "metadata": {},
   "outputs": [
    {
     "name": "stdout",
     "output_type": "stream",
     "text": [
      "Mejor ruta encontrada con el algoritmo del vecino más cercano: ['Mérida', 'Tapachula', 'México', 'León', 'GDL', 'Monterrey', 'Chihuahua', 'Tijuana']\n",
      "Distancia total de la mejor ruta: 10209\n"
     ]
    }
   ],
   "source": [
    "def vecino_mas_cercano(ciudades_iniciales):\n",
    "    ciudad_actual = ciudades_iniciales[0]\n",
    "    ruta = [ciudad_actual]\n",
    "    ciudades_por_visitar = set(ciudades_iniciales[1:])\n",
    "\n",
    "    while ciudades_por_visitar:\n",
    "        ciudad_mas_cercana = min(ciudades_por_visitar, key=lambda ciudad: tabla_datos_viajes.loc[ciudad_actual, ciudad])\n",
    "        ruta.append(ciudad_mas_cercana)\n",
    "        ciudades_por_visitar.remove(ciudad_mas_cercana)\n",
    "        ciudad_actual = ciudad_mas_cercana\n",
    "\n",
    "    return ruta\n",
    "\n",
    "ciudades_aleatorias = ciudades_aleatorias1(ruta_archivo)\n",
    "mejor_ruta_vecino = vecino_mas_cercano(ciudades_aleatorias)\n",
    "mejor_distancia_vecino = CD1(mejor_ruta_vecino, ruta_archivo)\n",
    "\n",
    "print(\"Mejor ruta encontrada con el algoritmo del vecino más cercano:\", mejor_ruta_vecino)\n",
    "print(\"Distancia total de la mejor ruta:\", mejor_distancia_vecino)\n",
    "\n",
    "\n",
    "def guardar_resultados_vecino(ruta_archivo, mejor_ruta, mejor_distancia):\n",
    "    book = op.load_workbook(ruta_archivo)\n",
    "    if \"RESULTADOS\" in book.sheetnames:\n",
    "        del book[\"RESULTADOS\"]\n",
    "    resultados_sheet = book.create_sheet(title=\"RESULTADOS\")\n",
    "    resultados_sheet[\"A1\"] = \"Mejor Ruta\"\n",
    "    resultados_sheet[\"A2\"] = \", \".join(mejor_ruta)\n",
    "    resultados_sheet[\"B1\"] = \"Distancia Total\"\n",
    "    resultados_sheet[\"B2\"] = mejor_distancia\n",
    "    book.save(ruta_archivo)\n",
    "\n",
    "guardar_resultados_vecino(ruta_archivo, mejor_ruta_vecino, mejor_distancia_vecino)\n",
    "\n",
    "\n"
   ]
  },
  {
   "cell_type": "markdown",
   "id": "718b0d2a-b253-4018-aeeb-8c3ccebde6aa",
   "metadata": {},
   "source": [
    "#### Parte mas importante del codigo: "
   ]
  },
  {
   "cell_type": "code",
   "execution_count": null,
   "id": "e980b589-4206-4171-8c5f-c91451d0af11",
   "metadata": {},
   "outputs": [],
   "source": [
    "# while ciudades_por_visitar:\n",
    "        #ciudad_mas_cercana = min(ciudades_por_visitar, key=lambda ciudad: tabla_datos_viajes.loc[ciudad_actual, ciudad])\n",
    "        #ruta.append(ciudad_mas_cercana)\n",
    "        #ciudades_por_visitar.remove(ciudad_mas_cercana)\n",
    "        #ciudad_actual = ciudad_mas_cercana"
   ]
  },
  {
   "cell_type": "markdown",
   "id": "e4300b3d-0a20-4381-aa0c-8b91775b8666",
   "metadata": {},
   "source": [
    "#### Este ciclo while es una búsqueda dirigida hacia los demás puntos que no se han visitado, conoce sus datos y los examina.\n",
    "#### Utilizamos el min para encontrar el elemento mas pequeño en nuestra lista.  \n"
   ]
  },
  {
   "cell_type": "markdown",
   "id": "0761dba0-3977-409a-bfaa-fa460d0e507e",
   "metadata": {},
   "source": [
    "## ¿Qué hay detrás?"
   ]
  },
  {
   "cell_type": "markdown",
   "id": "3a690ea9-2e70-425d-b53b-5f29342f0656",
   "metadata": {},
   "source": [
    "Hasta ahora, las optimizaciones que hemos hecho en clase han sido todas de funciones convexas, que garantizan un mínimo/máximo global. Incluso en los casos de regresiones o programación lineal, que teníamos muchas variables y graficarlas era imposible, se sabe desde el planteamiento del problema que la solución será única.\n",
    "\n",
    "![](https://encrypted-tbn0.gstatic.com/images?q=tbn:ANd9GcTWjD1olGFjjZN8Yi99lqDzWa1X5Rz4b4BP7g&s)"
   ]
  },
  {
   "cell_type": "markdown",
   "id": "7ac96682-7833-4196-87ba-bd9ba71b8ccc",
   "metadata": {},
   "source": [
    "Estos casos y campo de estudio se conocen como **Optimización Convexa**. Hay casos en los que el problema se puede adaptar para suavizar su respuesta y *volverlo* convexo, pero en muchos casos las funciones no son convexas y resultan en la aparición de muchos mínimos y máximos.\n",
    "\n",
    "![](https://encrypted-tbn0.gstatic.com/images?q=tbn:ANd9GcTsUVelChbZG6NX2cHTB68j3Ma0_8RUKnPUNg&s)"
   ]
  },
  {
   "cell_type": "markdown",
   "id": "209ab61f-90f4-4b4f-8d99-fc2a0688a4a2",
   "metadata": {},
   "source": [
    "![](https://upload.wikimedia.org/wikipedia/commons/e/e3/Non-Convex_Objective_Function.gif)"
   ]
  },
  {
   "cell_type": "markdown",
   "id": "6ad2ceca-1dce-426a-b02c-15f76daa1609",
   "metadata": {},
   "source": [
    "En los casos donde podemos graficar es muy sencillo saber si el valor óptimo encontrado es global o no, pero una solución general para *n* dimensiones en un problema no existe. Imaginemos el cerebro humano aprendiendo un deporte sin instructor:\n",
    "- Alguien puede aprender a jugar tennis **sin** instructor, viendo y replicando comportamientos y patrones vistos anteriormente (aprendiendo)\n",
    "- Alguien también puede aprender a jugar tennis **con** instructor, donde el instructor corregirá hábitos erróneos."
   ]
  },
  {
   "cell_type": "markdown",
   "id": "56e4f84d-2a61-4372-8ac9-c708944e3ca2",
   "metadata": {},
   "source": [
    "Por lógica, la persona que está aprendiendo sin instructor llegará a un nivel de juego donde sus limitantes serán los malos hábitos formados al aprender y optimizar su forma de juego (óptimo local).\n",
    "\n",
    "La persona con instructor será guiada a un mínimo global pues el instructor conoce su ubicación."
   ]
  },
  {
   "cell_type": "markdown",
   "id": "dc04d58b-5402-40b0-b778-41532bd862f1",
   "metadata": {},
   "source": [
    "Todos aprendemos de formas diferentes y cada quién podría llegar a su óptimo en dado tiempo; no hay garantía de que la forma en la que aprendes sea la mejor, entonces lo mejor es tener una mente abierta para ver si es que te has estancado y quizás hay otro valor óptimo en alguna otra parte."
   ]
  },
  {
   "cell_type": "markdown",
   "id": "5a41d7ad-adb1-43d6-8920-d29210c49ec5",
   "metadata": {},
   "source": [
    "## Uniendo"
   ]
  },
  {
   "cell_type": "markdown",
   "id": "ad106cd0-eefc-4ddd-8439-bdf583da2eb1",
   "metadata": {},
   "source": [
    "En el caso del problema de las ciudades hay 20,160 posibles combinaciones (excluyendo rutas repetidas con el viaje en orden reverso). Con las computadoras de hoy en día podemos revisar todos esos casos y tomar el mejor. ¿Qué pasa si añadimos ciudades?\n",
    "- 9 ciudades → $181,440$ combinaciones\n",
    "- 10 ciudades → $1'814,400$ combinaciones\n",
    "- 15 ciudades → $653,837'184,000$ combinaciones\n",
    "\n",
    "Para 15 ciudades, si cada ruta distinta nos tomara 1 segundo procesarla, se tardaría ~21 años en calcular todos los casos posibles. Si agregamos otra ciudad, entonces serían ~335 años."
   ]
  },
  {
   "cell_type": "markdown",
   "id": "21528c33-77cb-4756-a65a-86f3b848ae23",
   "metadata": {},
   "source": [
    "Los algoritmos de optimización con métodos numéricos necesitan un punto de partida, y a partir de ahí iteran hasta encontrar un mínimo/máximo sin poder saber si es local o global. ¿Cómo sabemos cuántas veces intentar optimizar y con qué punto de partida si no sabemos cuántos mínimos/máximos existen en nuestro problema o si siquiera existe un mínimo/máximo global?"
   ]
  },
  {
   "cell_type": "markdown",
   "id": "c71b3e5f-74cf-4607-92f6-a44d43208cbf",
   "metadata": {},
   "source": [
    "**No sabemos.** Lo mejor que podemos hacer es usar *métodos de búsqueda* / *algoritmos probabilísticos* para intentar encontrar la mejor solución posible en el momento y decidir si esa solución es suficiente."
   ]
  },
  {
   "cell_type": "markdown",
   "id": "fde134fb-e526-48af-a559-72b13dcd03a5",
   "metadata": {},
   "source": [
    "## Siguientes pasos"
   ]
  },
  {
   "cell_type": "markdown",
   "id": "791b7fa4-170c-48a0-a9e2-ae8c3c80cbae",
   "metadata": {},
   "source": [
    "En lugar de usar fuerza bruta (Monte Carlo o algoritmos iterativos) para encontrar la respuesta empezaremos a usar búsquedas dirigidas para intentar mejorar nuestros resultados mientras diminuimos nuestro tiempo de procesamiento."
   ]
  },
  {
   "cell_type": "code",
   "execution_count": null,
   "id": "a7c80c90-8c69-4055-a7f6-e29a730e1fe1",
   "metadata": {},
   "outputs": [],
   "source": []
  },
  {
   "cell_type": "code",
   "execution_count": null,
   "id": "33ca80c5-c2c1-4486-bc9d-a0bbb145edf5",
   "metadata": {},
   "outputs": [],
   "source": []
  }
 ],
 "metadata": {
  "kernelspec": {
   "display_name": "Python 3 (ipykernel)",
   "language": "python",
   "name": "python3"
  },
  "language_info": {
   "codemirror_mode": {
    "name": "ipython",
    "version": 3
   },
   "file_extension": ".py",
   "mimetype": "text/x-python",
   "name": "python",
   "nbconvert_exporter": "python",
   "pygments_lexer": "ipython3",
   "version": "3.12.4"
  }
 },
 "nbformat": 4,
 "nbformat_minor": 5
}
