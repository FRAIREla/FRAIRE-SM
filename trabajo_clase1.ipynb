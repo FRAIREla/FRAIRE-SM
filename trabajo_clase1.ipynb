{
 "cells": [
  {
   "cell_type": "code",
   "execution_count": 1,
   "id": "c82a6929-96b7-45ad-851d-0a42c9a0b086",
   "metadata": {},
   "outputs": [],
   "source": [
    "no_intentos = 5\n",
    "tasa_de_exito=0.67\n",
    "apellido= \"morales\"\n"
   ]
  },
  {
   "cell_type": "code",
   "execution_count": 2,
   "id": "73737147-5464-472d-9153-9df653a5f314",
   "metadata": {},
   "outputs": [
    {
     "data": {
      "text/plain": [
       "int"
      ]
     },
     "execution_count": 2,
     "metadata": {},
     "output_type": "execute_result"
    }
   ],
   "source": [
    "type(no_intentos)"
   ]
  },
  {
   "cell_type": "markdown",
   "id": "3f1b6031-ea8d-436a-974d-8d7823b5467f",
   "metadata": {},
   "source": [
    "# lista\n"
   ]
  },
  {
   "cell_type": "code",
   "execution_count": 3,
   "id": "21a9b627-3eb0-4a02-be77-23c617c55aa5",
   "metadata": {},
   "outputs": [
    {
     "data": {
      "text/plain": [
       "list"
      ]
     },
     "execution_count": 3,
     "metadata": {},
     "output_type": "execute_result"
    }
   ],
   "source": [
    "alumnos = [\"fraire\", \"rivas\",\"heriberto\",\"padilla\"]\n",
    "type(alumnos)\n"
   ]
  },
  {
   "cell_type": "code",
   "execution_count": 6,
   "id": "0c0c9c50-0bae-4fe1-a8c0-79c62b35c547",
   "metadata": {},
   "outputs": [
    {
     "data": {
      "text/plain": [
       "['fraire', 'rivas', 'heriberto', 'padilla', 'jauregui', 'jauregui', 'jauregui']"
      ]
     },
     "execution_count": 6,
     "metadata": {},
     "output_type": "execute_result"
    }
   ],
   "source": [
    "alumnos.append(\"jauregui\")\n",
    "alumnos"
   ]
  },
  {
   "cell_type": "code",
   "execution_count": 11,
   "id": "75814718-b366-4514-a91a-186dbeb74433",
   "metadata": {},
   "outputs": [
    {
     "data": {
      "text/plain": [
       "'padilla'"
      ]
     },
     "execution_count": 11,
     "metadata": {},
     "output_type": "execute_result"
    }
   ],
   "source": [
    "alumnos[3]"
   ]
  },
  {
   "cell_type": "code",
   "execution_count": 13,
   "id": "d356b824-0f9d-4015-bbcd-cd5a63d4e2d9",
   "metadata": {},
   "outputs": [
    {
     "data": {
      "text/plain": [
       "['fraire',\n",
       " 'rivas',\n",
       " 'heriberto',\n",
       " 'Leon',\n",
       " 'Leon',\n",
       " 'padilla',\n",
       " 'jauregui',\n",
       " 'jauregui',\n",
       " 'jauregui']"
      ]
     },
     "execution_count": 13,
     "metadata": {},
     "output_type": "execute_result"
    }
   ],
   "source": [
    "alumnos.insert(3,\"Leon\")\n",
    "alumnos"
   ]
  },
  {
   "cell_type": "code",
   "execution_count": 14,
   "id": "24a6e793-8a21-4ab0-9ebb-e44a306de827",
   "metadata": {},
   "outputs": [
    {
     "data": {
      "text/plain": [
       "['fraire',\n",
       " 'rivas',\n",
       " 'heriberto',\n",
       " 'Leon',\n",
       " 'padilla',\n",
       " 'jauregui',\n",
       " 'jauregui',\n",
       " 'jauregui']"
      ]
     },
     "execution_count": 14,
     "metadata": {},
     "output_type": "execute_result"
    }
   ],
   "source": [
    "alumnos.pop(3)\n",
    "alumnos\n"
   ]
  },
  {
   "cell_type": "code",
   "execution_count": 17,
   "id": "8361730c-30f0-481e-a462-0133fc5ad7ed",
   "metadata": {},
   "outputs": [
    {
     "data": {
      "text/plain": [
       "[8,\n",
       " 3.14,\n",
       " 'Raul',\n",
       " ['fraire',\n",
       "  'rivas',\n",
       "  'heriberto',\n",
       "  'Leon',\n",
       "  'padilla',\n",
       "  'jauregui',\n",
       "  'jauregui',\n",
       "  'jauregui']]"
      ]
     },
     "execution_count": 17,
     "metadata": {},
     "output_type": "execute_result"
    }
   ],
   "source": [
    "lista1 = [8,3.14,\"Raul\",alumnos]\n",
    "lista1"
   ]
  },
  {
   "cell_type": "code",
   "execution_count": 20,
   "id": "d04558eb-798e-4870-ae92-80c5447212e2",
   "metadata": {},
   "outputs": [],
   "source": [
    "lista6 = [66,4,3,7,2]\n",
    "\n"
   ]
  },
  {
   "cell_type": "code",
   "execution_count": 26,
   "id": "78feb0ac-97d4-4e2d-a649-c1019255fb90",
   "metadata": {},
   "outputs": [
    {
     "name": "stdout",
     "output_type": "stream",
     "text": [
      "66\n",
      "4\n",
      "3\n",
      "7\n",
      "2\n"
     ]
    }
   ],
   "source": [
    "i = 0\n",
    "while i < len(lista6):\n",
    "    print(lista6[i])\n",
    "    i += 1"
   ]
  },
  {
   "cell_type": "code",
   "execution_count": 27,
   "id": "34de22e2-697f-48a3-86fa-ed1f3c30f663",
   "metadata": {},
   "outputs": [
    {
     "name": "stdout",
     "output_type": "stream",
     "text": [
      "66\n",
      "4\n",
      "3\n",
      "7\n",
      "2\n"
     ]
    }
   ],
   "source": [
    "for elemnto in lista6 :\n",
    "    print(elemnto)"
   ]
  },
  {
   "cell_type": "markdown",
   "id": "0fb6797f-4d83-4b6d-943a-d0f2afff1f09",
   "metadata": {},
   "source": [
    "# funciones"
   ]
  },
  {
   "cell_type": "code",
   "execution_count": 31,
   "id": "48ca1289-4225-4e4b-b705-abaea4a3b30c",
   "metadata": {},
   "outputs": [],
   "source": [
    "def funcion1() :\n",
    "    print(\"hola\")\n",
    "\n"
   ]
  },
  {
   "cell_type": "code",
   "execution_count": 32,
   "id": "199d904f-e946-4b7e-a32a-8f627fdfc7bd",
   "metadata": {},
   "outputs": [
    {
     "name": "stdout",
     "output_type": "stream",
     "text": [
      "hola\n"
     ]
    }
   ],
   "source": [
    "funcion1()"
   ]
  },
  {
   "cell_type": "code",
   "execution_count": 36,
   "id": "93ece43c-2990-49ac-ada8-b524f5ff0524",
   "metadata": {},
   "outputs": [],
   "source": [
    "def suma (a,b) :\n",
    "    resultado = a + b\n",
    "    return resultado"
   ]
  },
  {
   "cell_type": "code",
   "execution_count": 37,
   "id": "54f16460-6c95-4bda-8cec-ade5d2055068",
   "metadata": {},
   "outputs": [
    {
     "data": {
      "text/plain": [
       "4"
      ]
     },
     "execution_count": 37,
     "metadata": {},
     "output_type": "execute_result"
    }
   ],
   "source": [
    "suma (0,4)"
   ]
  },
  {
   "cell_type": "code",
   "execution_count": 52,
   "id": "bbde39d2-474a-4e7e-bb65-dfdb2001c134",
   "metadata": {},
   "outputs": [
    {
     "data": {
      "text/plain": [
       "120"
      ]
     },
     "execution_count": 52,
     "metadata": {},
     "output_type": "execute_result"
    }
   ],
   "source": [
    "def factorial(a) :\n",
    "    i = 1\n",
    "    acc = 1\n",
    "    while i <= a:\n",
    "        acc = acc*i\n",
    "        i+=1\n",
    "    return acc\n",
    "factorial(5)"
   ]
  },
  {
   "cell_type": "code",
   "execution_count": 41,
   "id": "9d6607a0-1fa4-4898-85af-af4e32a83e21",
   "metadata": {},
   "outputs": [
    {
     "name": "stdout",
     "output_type": "stream",
     "text": [
      "4\n",
      "3\n",
      "1.618\n"
     ]
    }
   ],
   "source": [
    "def funcion (a,b,c=1.618):\n",
    "    print(a)\n",
    "    print(b)\n",
    "    print(c)\n",
    "funcion(4,3)"
   ]
  },
  {
   "cell_type": "markdown",
   "id": "29e6d88a-3b97-4b48-b403-5b742776e5a3",
   "metadata": {},
   "source": [
    "# Actividad"
   ]
  },
  {
   "cell_type": "markdown",
   "id": "9f29bd27-5709-47cb-abea-4261ec50abc5",
   "metadata": {},
   "source": [
    "Pasar a funcion el codigo de encontrar un numero primo que retorne True si si es primo y False si no"
   ]
  },
  {
   "cell_type": "markdown",
   "id": "2bc1d32c-ff0a-4c4b-bc2d-40c6fdd3afc5",
   "metadata": {},
   "source": [
    "$$ esprimo(a) $$"
   ]
  },
  {
   "cell_type": "markdown",
   "id": "a4c90d07-253c-45c0-bcdd-a3568983b612",
   "metadata": {},
   "source": [
    "Crear una funcion que ingrese un numero a y encuentre el numero primo mas cercano\n"
   ]
  },
  {
   "cell_type": "markdown",
   "id": "488bcfe4-e933-45fc-8571-a55ad6990a8b",
   "metadata": {},
   "source": [
    "$$ 0<= a <= 100 $$"
   ]
  },
  {
   "cell_type": "markdown",
   "id": "1caae332-ee4c-46af-974d-0b21a3823ed3",
   "metadata": {},
   "source": [
    "Pasar a funcion el codigo de encontrar factorial y encontrar factorial de los siguientes numeros \n",
    "$$4$$\n",
    "$$7$$\n",
    "$$5$$\n",
    "$$8$$\n",
    "$$9$$\n",
    "$$3$$"
   ]
  },
  {
   "cell_type": "markdown",
   "id": "4df07630-2b89-4d50-aae4-406c66e098f0",
   "metadata": {},
   "source": [
    "# Resultado"
   ]
  },
  {
   "cell_type": "markdown",
   "id": "6267c838-8713-482e-812c-a509c5bc98f2",
   "metadata": {},
   "source": [
    "1."
   ]
  },
  {
   "cell_type": "code",
   "execution_count": 51,
   "id": "8679b5c9-255b-4acb-a17a-2b1ac7a68649",
   "metadata": {},
   "outputs": [
    {
     "name": "stdin",
     "output_type": "stream",
     "text": [
      "ingrese un numero:  5\n"
     ]
    },
    {
     "name": "stdout",
     "output_type": "stream",
     "text": [
      "5  es  numero primo! \n"
     ]
    }
   ],
   "source": [
    "def es_primo(a):\n",
    "    if a < 2:\n",
    "        return False\n",
    "    if a <= 3:\n",
    "        return True\n",
    "    if a % 3 == 0 or a % 2 == 0:\n",
    "        return False\n",
    "    i=5\n",
    "    while i*i <=a:\n",
    "        if a % i == 0 or a % (i + 2) == 0:\n",
    "            return False\n",
    "        i += 6\n",
    "    return True \n",
    "numero = int(input(\"ingrese un numero: \"))\n",
    "if es_primo(numero):\n",
    "    print(numero, \" es  numero primo! \")\n",
    "else:\n",
    "    print(numero, \"no es un numero primo :(\")\n"
   ]
  },
  {
   "cell_type": "markdown",
   "id": "fca6ac41-e3a0-49f3-b0d4-ef79104eb45a",
   "metadata": {},
   "source": [
    "2."
   ]
  },
  {
   "cell_type": "code",
   "execution_count": null,
   "id": "593db3d8-ba32-4113-a414-df7b040c0ed7",
   "metadata": {},
   "outputs": [],
   "source": [
    "def es_primo(z)\n",
    "    if a < 2:\n",
    "        return False\n",
    "    if a <= 3:\n",
    "        return True\n",
    "    if a % 3 == 0 or a % 2 == 0:\n",
    "        return False\n",
    "    i=5\n",
    "    while i*i <=a:\n",
    "        if a % i == 0 or a % (i + 2) == 0:\n",
    "            return False\n",
    "        i += 6\n",
    "    return True \n",
    "def primo_cercano(n)\n",
    "    if n < 2\n"
   ]
  },
  {
   "cell_type": "markdown",
   "id": "1d823e90-cf13-4180-a86c-00af267d393a",
   "metadata": {},
   "source": [
    "3."
   ]
  },
  {
   "cell_type": "code",
   "execution_count": 68,
   "id": "a8f6d6a6-de6e-498a-b191-65b9cb2811f7",
   "metadata": {},
   "outputs": [
    {
     "name": "stdout",
     "output_type": "stream",
     "text": [
      "24\n",
      "5040\n",
      "120\n",
      "40320\n",
      "362880\n",
      "6\n"
     ]
    }
   ],
   "source": [
    "lista01 = [4,7,5,8,9,3]\n",
    "def factorial(a) :\n",
    "    i = 1\n",
    "    acc = 1\n",
    "    while i <= a:\n",
    "        acc = acc*i\n",
    "        i+=1\n",
    "    return acc\n",
    "for elemento in lista01 :\n",
    "    print(factorial(elemento))"
   ]
  },
  {
   "cell_type": "code",
   "execution_count": null,
   "id": "ac8301cd-c33b-440f-b29d-d75c3356a15b",
   "metadata": {},
   "outputs": [],
   "source": []
  }
 ],
 "metadata": {
  "kernelspec": {
   "display_name": "Python 3 (ipykernel)",
   "language": "python",
   "name": "python3"
  },
  "language_info": {
   "codemirror_mode": {
    "name": "ipython",
    "version": 3
   },
   "file_extension": ".py",
   "mimetype": "text/x-python",
   "name": "python",
   "nbconvert_exporter": "python",
   "pygments_lexer": "ipython3",
   "version": "3.12.4"
  }
 },
 "nbformat": 4,
 "nbformat_minor": 5
}
