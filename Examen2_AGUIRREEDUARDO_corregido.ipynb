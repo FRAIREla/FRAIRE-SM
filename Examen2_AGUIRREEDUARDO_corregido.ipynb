{
 "cells": [
  {
   "cell_type": "markdown",
   "id": "8bc2f283",
   "metadata": {
    "id": "8bc2f283"
   },
   "source": [
    "# Examen Módulo 2\n",
    "\n",
    "**Mantenga la calma y lea cuidadosamente las siguientes indicaciones antes de comenzar el examen:**\n",
    "- Para resolver el examen edite este mismo archivo y renómbrelo de la siguiente manera: *Examen2_ApellidoNombre*, donde *ApellidoNombre* corresponde a su apellido paterno con la inicial en mayúscula, seguido de su primer nombre con la inicial en mayúscula **sin acentos**. Por ejemplo, en mi caso el nombre del archivo sería *Examen2_MoralesGabriel*.\n",
    "- Resuelva los puntos en el espacio provisto. Si requiere agregar más celdas para código o escritura, hágalo (`Esc`+`B`) o (`Esc`+`A`).\n",
    "- Recuerde que también se está evaluando su capacidad de interpretar los resultados. Escriba sus interpretaciones/conclusiones en celdas utilizando *Markdown*.\n",
    "- El formato de presentación de todo el examen en general debe ser adecuado. Use tamaños de letra, colores, etiquetas, etcétera.\n",
    "- No se resuelven dudas de ningún tipo por los profesores de la asignatura. Por favor absténgase de preguntar."
   ]
  },
  {
   "cell_type": "markdown",
   "id": "30ec3475",
   "metadata": {
    "id": "30ec3475"
   },
   "source": [
    "# ANTES DE EMPEZAR"
   ]
  },
  {
   "cell_type": "markdown",
   "id": "c2e65c9c",
   "metadata": {
    "id": "c2e65c9c"
   },
   "source": [
    "Escribe tu número de expediente como semilla"
   ]
  },
  {
   "cell_type": "code",
   "execution_count": 1,
   "id": "dddea116-4472-430d-9605-1e24891a29e0",
   "metadata": {
    "colab": {
     "base_uri": "https://localhost:8080/"
    },
    "id": "dddea116-4472-430d-9605-1e24891a29e0",
    "outputId": "5a96f68a-9f0f-4580-bc66-f2e2fd6e9bc7"
   },
   "outputs": [
    {
     "name": "stdout",
     "output_type": "stream",
     "text": [
      "Integración Monte Carlo tipo 1 - Problema  2\n",
      "Integración Monte Carlo tipo 2 - Problema  2\n"
     ]
    }
   ],
   "source": [
    "import numpy as np\n",
    "np.random.seed(751100)\n",
    "print(\"Integración Monte Carlo tipo 1 - Problema \", np.random.choice([1, 2]))\n",
    "print(\"Integración Monte Carlo tipo 2 - Problema \", np.random.choice([1, 2]))"
   ]
  },
  {
   "cell_type": "markdown",
   "id": "1d86d5b8-9344-4241-9744-da3bae25c4db",
   "metadata": {
    "id": "1d86d5b8-9344-4241-9744-da3bae25c4db"
   },
   "source": [
    "---\n",
    "# Caminata aleatoria"
   ]
  },
  {
   "cell_type": "markdown",
   "id": "5449e0ce-0f65-4722-8e02-663390ac3489",
   "metadata": {
    "id": "5449e0ce-0f65-4722-8e02-663390ac3489"
   },
   "source": [
    "Una persona entra a un casino con 20 pesos.\n",
    "\n",
    "Su apuesta inicial es de 10 pesos, y tiene la idea de modificar su apuesta de la siguiente manera:\n",
    "- Si gana, disminuye su apuesta en 2 pesos\n",
    "- Si pierde, aumenta su apuesta en 2 pesos\n",
    "\n",
    "Este jugador apostará hasta que haya ganado lo suficiente para que su apuesta se vuelva 0 o cuando quede en bancarrota.\n",
    "\n",
    "1. ¿Cuál es el capital esperado?\n",
    "2. En promedio, ¿cuánto apostará en el tercer juego?\n",
    "3. ¿Cuál es la probabilidad de que quede en bancarrota?\n",
    "4. ¿Cuál es la probabilidad de que \"gane\"? (Que su apuesta se vuelva cero)"
   ]
  },
  {
   "cell_type": "code",
   "execution_count": null,
   "id": "73ec31ea-462a-4782-9cd2-d33bd25dcf1b",
   "metadata": {
    "id": "73ec31ea-462a-4782-9cd2-d33bd25dcf1b"
   },
   "outputs": [],
   "source": []
  },
  {
   "cell_type": "code",
   "execution_count": null,
   "id": "36eb95e5-37ea-4ebd-8db2-0955bbdb7940",
   "metadata": {
    "id": "36eb95e5-37ea-4ebd-8db2-0955bbdb7940"
   },
   "outputs": [],
   "source": []
  },
  {
   "cell_type": "markdown",
   "id": "97a6a36f-7368-4ec3-97ce-69276f726606",
   "metadata": {
    "id": "97a6a36f-7368-4ec3-97ce-69276f726606"
   },
   "source": [
    "---\n",
    "# Simulación Monte Carlo\n",
    "\n",
    "Jugadores A y B están jugando a tirar una moneda sesgada (60\\% de probabilidad de caer en águila) por turnos. El jugador A empieza el juego y luego va el jugador B. Se lanza la moneda por turnos hasta que alguien tira águila y gana. ¿Cuál es la probabilidad de que el jugador A gane?"
   ]
  },
  {
   "cell_type": "code",
   "execution_count": 41,
   "id": "95e986e8-6c95-4112-9bf7-d39ee8fbde28",
   "metadata": {},
   "outputs": [],
   "source": [
    "import matplotlib.pyplot as plt\n",
    "import numpy as np \n",
    "import pandas as pd"
   ]
  },
  {
   "cell_type": "code",
   "execution_count": null,
   "id": "81fde7a5-6d3c-4115-bc7c-9bb989e0d0d7",
   "metadata": {
    "id": "81fde7a5-6d3c-4115-bc7c-9bb989e0d0d7"
   },
   "outputs": [],
   "source": [
    "\n"
   ]
  },
  {
   "cell_type": "code",
   "execution_count": null,
   "id": "72b1a1c4-a87d-4ad1-968f-0bde06e4d278",
   "metadata": {
    "id": "72b1a1c4-a87d-4ad1-968f-0bde06e4d278"
   },
   "outputs": [],
   "source": []
  },
  {
   "cell_type": "markdown",
   "id": "d06eddf0-b483-43a6-b356-559fe9486197",
   "metadata": {
    "id": "d06eddf0-b483-43a6-b356-559fe9486197"
   },
   "source": [
    "---\n",
    "# Integración Monte Carlo tipo 1 - Problema 1\n",
    "$$ f_1(x) = 5\\frac{\\sin{x}}{x} $$\n",
    "$$ f_2(x) = \\frac{1}{8} $$"
   ]
  },
  {
   "cell_type": "markdown",
   "id": "9c3b8c39-83a7-493f-a79b-0b18e80c5590",
   "metadata": {
    "id": "9c3b8c39-83a7-493f-a79b-0b18e80c5590"
   },
   "source": [
    "Dadas $f_1$ y $f_2$, ¿cuál es el área que hay entre las dos curvas en un intervalo de $[0.1, 7]$? (Aproxima los cruces)"
   ]
  },
  {
   "cell_type": "code",
   "execution_count": 14,
   "id": "31310462-d5a7-43c0-a555-210d95f23ad4",
   "metadata": {
    "id": "31310462-d5a7-43c0-a555-210d95f23ad4"
   },
   "outputs": [],
   "source": [
    "import numpy as np\n",
    "import pandas as pd\n",
    "\n",
    "\n",
    "\n",
    "def f1_1(x):\n",
    "  return((5*np.sin(x))/x)\n",
    "    \n",
    "def f2_2(x):\n",
    "  return(1/8)\n",
    "    \n",
    "def f1_f2(x):\n",
    "    return f1_1(x) - f2_2(x)\n",
    "\n",
    "n=100000\n",
    "a=0.1\n",
    "b=7"
   ]
  },
  {
   "cell_type": "code",
   "execution_count": 18,
   "id": "rtRGlSGKStz9",
   "metadata": {
    "colab": {
     "base_uri": "https://localhost:8080/",
     "height": 125
    },
    "id": "rtRGlSGKStz9",
    "outputId": "64b18db0-804b-491d-de2f-00e780b56a56"
   },
   "outputs": [
    {
     "data": {
      "text/html": [
       "<div>\n",
       "<style scoped>\n",
       "    .dataframe tbody tr th:only-of-type {\n",
       "        vertical-align: middle;\n",
       "    }\n",
       "\n",
       "    .dataframe tbody tr th {\n",
       "        vertical-align: top;\n",
       "    }\n",
       "\n",
       "    .dataframe thead th {\n",
       "        text-align: right;\n",
       "    }\n",
       "</style>\n",
       "<table border=\"1\" class=\"dataframe\">\n",
       "  <thead>\n",
       "    <tr style=\"text-align: right;\">\n",
       "      <th></th>\n",
       "      <th>TOTAL</th>\n",
       "    </tr>\n",
       "  </thead>\n",
       "  <tbody>\n",
       "    <tr>\n",
       "      <th>AREA_APROX_F1_F2</th>\n",
       "      <td>5.886276</td>\n",
       "    </tr>\n",
       "  </tbody>\n",
       "</table>\n",
       "</div>"
      ],
      "text/plain": [
       "                     TOTAL\n",
       "AREA_APROX_F1_F2  5.886276"
      ]
     },
     "execution_count": 18,
     "metadata": {},
     "output_type": "execute_result"
    }
   ],
   "source": [
    "def montecarlo_tipo1(f, a, b, n):\n",
    "    u = np.random.uniform(a, b, n)\n",
    "    return np.mean(f(u)) * (b - a)\n",
    "\n",
    "\n",
    "\n",
    "AE_curvas = montecarlo_tipo1(f1_f2, a, b, n)\n",
    "\n",
    "\n",
    "data = {\n",
    "    'TOTAL': [AE_curvas],\n",
    "}\n",
    "\n",
    "\n",
    "tabla = pd.DataFrame(data, index=[\"AREA_APROX_F1_F2\"])\n",
    "\n",
    "\n",
    "\n",
    "tabla\n"
   ]
  },
  {
   "cell_type": "markdown",
   "id": "9b6714fb-6eb6-4d77-802a-cd40861d8b8d",
   "metadata": {
    "id": "e603cfc8-c5ba-4dd5-bd2a-ab5c5e2dac0a"
   },
   "source": [
    "### EL AREA APROXIMADA DADA POR EL CRUZE DE NUESTRAS DOS FUNCIONES EN LOS INTERVALOS A=0.1 B=7, ES DE 5.951541 u^2."
   ]
  },
  {
   "cell_type": "markdown",
   "id": "b2df3899-2f8f-4cdf-9b53-3809bb77e6f9",
   "metadata": {
    "id": "b2df3899-2f8f-4cdf-9b53-3809bb77e6f9"
   },
   "source": [
    "# Integración Monte Carlo tipo 1 - Problema 2\n",
    "$$ f_1(x) = \\sin{(x)} e^{-x} $$\n",
    "$$ f_2(x) = \\frac{x}{10} $$"
   ]
  },
  {
   "cell_type": "markdown",
   "id": "647393fd-cb7f-4cd3-bf8a-c41d2afc6005",
   "metadata": {
    "id": "647393fd-cb7f-4cd3-bf8a-c41d2afc6005"
   },
   "source": [
    "Dadas $f_1$ y $f_2$, ¿cuál es el área que hay entre las dos curvas en un intervalo de $[0, 4]$? (Aproxima los cruces)"
   ]
  },
  {
   "cell_type": "code",
   "execution_count": 29,
   "id": "4577cc34-64e1-48b6-bf65-95537ae370b0",
   "metadata": {
    "id": "4577cc34-64e1-48b6-bf65-95537ae370b0"
   },
   "outputs": [],
   "source": [
    "import numpy as np\n",
    "import pandas as pd\n",
    "\n",
    "\n",
    "def f3_3(x):\n",
    "  return(np.sin(x)*np.exp(-x))\n",
    "    \n",
    "def f4_4(x):\n",
    "  return(x/10)\n",
    "\n",
    "def f3_f4(x):\n",
    "    return abs(f3_3(x) - f4_4(x))\n",
    "\n",
    "\n",
    "n=100000\n",
    "a1=0\n",
    "b1=4"
   ]
  },
  {
   "cell_type": "code",
   "execution_count": 30,
   "id": "781956bf-67c8-4afb-b284-e145233463f3",
   "metadata": {
    "colab": {
     "base_uri": "https://localhost:8080/",
     "height": 125
    },
    "id": "781956bf-67c8-4afb-b284-e145233463f3",
    "outputId": "4cca162d-f90e-49ce-a026-bb6fa01d453c"
   },
   "outputs": [
    {
     "data": {
      "text/html": [
       "<div>\n",
       "<style scoped>\n",
       "    .dataframe tbody tr th:only-of-type {\n",
       "        vertical-align: middle;\n",
       "    }\n",
       "\n",
       "    .dataframe tbody tr th {\n",
       "        vertical-align: top;\n",
       "    }\n",
       "\n",
       "    .dataframe thead th {\n",
       "        text-align: right;\n",
       "    }\n",
       "</style>\n",
       "<table border=\"1\" class=\"dataframe\">\n",
       "  <thead>\n",
       "    <tr style=\"text-align: right;\">\n",
       "      <th></th>\n",
       "      <th>TOTAL</th>\n",
       "    </tr>\n",
       "  </thead>\n",
       "  <tbody>\n",
       "    <tr>\n",
       "      <th>AREA_APROX_F3_F4</th>\n",
       "      <td>0.840703</td>\n",
       "    </tr>\n",
       "  </tbody>\n",
       "</table>\n",
       "</div>"
      ],
      "text/plain": [
       "                     TOTAL\n",
       "AREA_APROX_F3_F4  0.840703"
      ]
     },
     "execution_count": 30,
     "metadata": {},
     "output_type": "execute_result"
    }
   ],
   "source": [
    "def montecarlo_tipo1(f, a, b, n):\n",
    "    u = np.random.uniform(a, b, n)\n",
    "    return np.mean(f(u)) * (b - a)\n",
    "\n",
    "AE_curvas2 = montecarlo_tipo1(f3_f4, a1, b1, n)\n",
    "\n",
    "data={\n",
    "    'TOTAL': [AE_curvas2],\n",
    "}\n",
    "tabla = pd.DataFrame(data, index=[\"AREA_APROX_F3_F4\"])\n",
    "\n",
    "tabla"
   ]
  },
  {
   "cell_type": "markdown",
   "id": "7f7971de-149d-4df4-aaa8-425d5a7ea283",
   "metadata": {},
   "source": [
    "### EL AREA APROXIMADA DADA POR EL CRUZE DE NUESTRAS DOS FUNCIONES EN LOS INTERVALOS A=0 B=4, ES DE 0.840703 u^2, TOMANDO EN CUENTA EL VALOR ABSOLUTO DEL RESIDUO DE LAS DOS FUNCIONES PARA QUE EL RESULTADO SEA POSITIVO."
   ]
  },
  {
   "cell_type": "markdown",
   "id": "4d371037-d49d-47f6-97e7-07e683a00976",
   "metadata": {
    "id": "4d371037-d49d-47f6-97e7-07e683a00976"
   },
   "source": [
    "---\n",
    "# Integración Monte Carlo tipo 2 - Problema 1"
   ]
  },
  {
   "cell_type": "code",
   "execution_count": 36,
   "id": "zsdNpsGtWlXY",
   "metadata": {
    "id": "zsdNpsGtWlXY"
   },
   "outputs": [],
   "source": [
    "import numpy as np\n",
    "import pandas as pd\n",
    "import matplotlib.pyplot as plt\n"
   ]
  },
  {
   "cell_type": "markdown",
   "id": "90efeabd-ef4a-4ccb-bf58-6bbb40892c4e",
   "metadata": {
    "id": "90efeabd-ef4a-4ccb-bf58-6bbb40892c4e"
   },
   "source": [
    "Se tienen las siguientes desigualdades:"
   ]
  },
  {
   "cell_type": "markdown",
   "id": "d65ac302-8958-48d1-b689-3d8155e4f82a",
   "metadata": {
    "id": "d65ac302-8958-48d1-b689-3d8155e4f82a"
   },
   "source": [
    "1.\n",
    "$$ ((\\frac{x}{4})^2 + (\\frac{y-1}{2.5})^2 < 1)\\ \\& \\ ((x+1.5)^2 + (y-1)^2 > 0.2) \\ \\& \\ ((x-1.5)^2 + (y-1)^2 > 0.2) $$\n"
   ]
  },
  {
   "cell_type": "markdown",
   "id": "497f8431-709f-4341-95e7-8fc80ef09a4b",
   "metadata": {
    "id": "497f8431-709f-4341-95e7-8fc80ef09a4b"
   },
   "source": [
    "2. $$ (x+3)^2 + (y-4)^2 < 2 $$\n"
   ]
  },
  {
   "cell_type": "markdown",
   "id": "6d8d6211-03a7-4e3a-b8c1-ece030a5b375",
   "metadata": {
    "id": "6d8d6211-03a7-4e3a-b8c1-ece030a5b375"
   },
   "source": [
    "3. $$ (x-3)^2 + (y-4)^2 < 2 $$"
   ]
  },
  {
   "cell_type": "markdown",
   "id": "eb3b916a-ab74-49a2-9bcf-9e3df2029b73",
   "metadata": {
    "id": "eb3b916a-ab74-49a2-9bcf-9e3df2029b73"
   },
   "source": [
    "4. $$ x^2 + (\\frac{y+5}{2})^2 < 8 $$"
   ]
  },
  {
   "cell_type": "markdown",
   "id": "0cf6abfa-b213-48b5-a99a-c31780360643",
   "metadata": {
    "id": "0cf6abfa-b213-48b5-a99a-c31780360643"
   },
   "source": [
    "1. Crea una función de Python para cada desigualdad."
   ]
  },
  {
   "cell_type": "code",
   "execution_count": 37,
   "id": "67e50d2c-5f01-467d-bf4e-b9a2c66b2e62",
   "metadata": {
    "id": "67e50d2c-5f01-467d-bf4e-b9a2c66b2e62"
   },
   "outputs": [],
   "source": [
    "def f1(x,y):\n",
    "  return (((x/4)**2+((y-1)/2.5)**2)<1)&((((x+1.5)**2)+((y-1)**2))>0.2)&((((x-1.5)**2)+((y-1)**2))>0.2)\n",
    "\n",
    "def f2(x,y):\n",
    "  return ((((x+3)**2)+((y-4)**2))<2)\n",
    "\n",
    "def f3(x,y):\n",
    "  return ((((x-3)**2)+((y-4)**2))<2)\n",
    "\n",
    "def f4(x,y):\n",
    "  return (((x**2)+((y+5)/2)**2)<8)\n",
    "\n"
   ]
  },
  {
   "cell_type": "markdown",
   "id": "97a48f69-11e0-4057-bab4-11931913a3be",
   "metadata": {
    "id": "97a48f69-11e0-4057-bab4-11931913a3be"
   },
   "source": [
    "2. Crea una función que agrupe estas desigualdades (utiliza el operador `|` para unir las desigualdades)"
   ]
  },
  {
   "cell_type": "code",
   "execution_count": 38,
   "id": "efbcc005-c828-475d-8295-9ca03ae601f5",
   "metadata": {
    "id": "efbcc005-c828-475d-8295-9ca03ae601f5"
   },
   "outputs": [],
   "source": [
    "def f0(x,y):\n",
    "  return f1(x,y)|f2(x,y)|f3(x,y)|f4(x,y)\n"
   ]
  },
  {
   "cell_type": "markdown",
   "id": "b57a12c0-30c4-4110-a4a3-232319008ba6",
   "metadata": {
    "id": "b57a12c0-30c4-4110-a4a3-232319008ba6"
   },
   "source": [
    "3. Encuentra los límites de integración"
   ]
  },
  {
   "cell_type": "code",
   "execution_count": 39,
   "id": "a1b8ecda-477b-44d9-9c2c-6952cc8691ed",
   "metadata": {
    "colab": {
     "base_uri": "https://localhost:8080/",
     "height": 447
    },
    "id": "a1b8ecda-477b-44d9-9c2c-6952cc8691ed",
    "outputId": "277f4b92-4fc3-4b21-f6d9-e48ed109cea1"
   },
   "outputs": [
    {
     "data": {
      "text/plain": [
       "<matplotlib.collections.PathCollection at 0x20dfc4c5e20>"
      ]
     },
     "execution_count": 39,
     "metadata": {},
     "output_type": "execute_result"
    },
    {
     "data": {
      "image/png": "[encoded data removed]",
      "text/plain": [
       "<Figure size 640x480 with 1 Axes>"
      ]
     },
     "metadata": {},
     "output_type": "display_data"
    }
   ],
   "source": [
    "from binascii import a2b_base64\n",
    "a1=-6\n",
    "b1=6\n",
    "a2=-14\n",
    "b2=7.5\n",
    "n=10000\n",
    "x=np.random.uniform(a1,b1,n)\n",
    "y=np.random.uniform(a2,b2,n)\n",
    "plt.figure()\n",
    "plt.scatter(x,y,c=f0(x,y))\n"
   ]
  },
  {
   "cell_type": "markdown",
   "id": "d9e844a1-4034-416d-8a48-5c315794eece",
   "metadata": {
    "id": "d9e844a1-4034-416d-8a48-5c315794eece"
   },
   "source": [
    "4. Aproxima el área de la región descrita por la agrupación de las desigualdades con 1 millón de puntos."
   ]
  },
  {
   "cell_type": "code",
   "execution_count": 40,
   "id": "96c4702a-1b7c-4126-981a-41b74bd8f5c3",
   "metadata": {
    "colab": {
     "base_uri": "https://localhost:8080/",
     "height": 332
    },
    "id": "96c4702a-1b7c-4126-981a-41b74bd8f5c3",
    "outputId": "cde73371-7225-46e1-ab12-1421484fbf82"
   },
   "outputs": [
    {
     "data": {
      "text/plain": [
       "86.44548"
      ]
     },
     "execution_count": 40,
     "metadata": {},
     "output_type": "execute_result"
    }
   ],
   "source": [
    "n1_1 = 1000000\n",
    "def fd(f0, a1, b1, a2, b2, n1_1):\n",
    "    x = np.random.uniform(a1, b1, n1_1)\n",
    "    y = np.random.uniform(a2, b2, n1_1)\n",
    "    AR = (b1 - a1) * (b2 - a2)  \n",
    "    area_aprox = f0(x, y).mean() * AR\n",
    "    return area_aprox\n",
    "\n",
    "A_APROX = fd(f0, a1, b1, a2, b2, n1_1)\n",
    "\n",
    "A_APROX"
   ]
  },
  {
   "cell_type": "markdown",
   "id": "705f0b0b-f10b-405a-88a3-e9ab5f960cd2",
   "metadata": {
    "id": "ed5582dd-99a1-4629-92fe-7b881e6710b8"
   },
   "source": [
    "### NUESTRA ÁREA APROX DADA LA REGION (fd) Y EVALUADA CON 1,000,000 DE PUNTOS, ES DE 86.44548 u^2"
   ]
  },
  {
   "cell_type": "markdown",
   "id": "ef82f9c4-e355-4eb5-8000-2cd8790e13b5",
   "metadata": {
    "id": "3a4bbd6d-b3d5-432d-b345-828121d98dd6"
   },
   "source": [
    "5. ¿Cuál es el error relativo?"
   ]
  },
  {
   "cell_type": "code",
   "execution_count": null,
   "id": "42f7637d-9b4b-4a75-8262-8bad516ef801",
   "metadata": {
    "id": "42f7637d-9b4b-4a75-8262-8bad516ef801"
   },
   "outputs": [],
   "source": []
  },
  {
   "cell_type": "markdown",
   "id": "450b21f4-e7f7-450c-befb-a6d7343f1cfd",
   "metadata": {
    "id": "450b21f4-e7f7-450c-befb-a6d7343f1cfd"
   },
   "source": [
    "# Integración Monte Carlo tipo 2 - Problema 2"
   ]
  },
  {
   "cell_type": "markdown",
   "id": "f9d945d8-e2af-4336-9d5b-08bfb79b2665",
   "metadata": {
    "id": "f9d945d8-e2af-4336-9d5b-08bfb79b2665"
   },
   "source": [
    "Se quiere calcular el volumen de una alberca donde su superficie está dada por la siguiente desigualdad:\n",
    "$$ (x^2 + (\\frac{y}{2})^2 \\leq 1)\\ | \\ ((x-1)^2 + (y+2)^2 \\leq 2) $$"
   ]
  },
  {
   "cell_type": "markdown",
   "id": "cd5a1386-ea72-4e68-9ceb-b64b86516c4c",
   "metadata": {
    "id": "cd5a1386-ea72-4e68-9ceb-b64b86516c4c"
   },
   "source": [
    "1. Define una función en Python para la desigualdad y utilízala para encontrar límites de integración adecuados para esta superficie."
   ]
  },
  {
   "cell_type": "code",
   "execution_count": 61,
   "id": "010d6c11-70cf-41f3-bf19-aed12b9d9946",
   "metadata": {
    "id": "010d6c11-70cf-41f3-bf19-aed12b9d9946"
   },
   "outputs": [
    {
     "data": {
      "text/plain": [
       "<matplotlib.collections.PathCollection at 0x20dfb9b6f90>"
      ]
     },
     "execution_count": 61,
     "metadata": {},
     "output_type": "execute_result"
    },
    {
     "data": {
      "image/png": "[encoded data removed]",
      "text/plain": [
       "<Figure size 640x480 with 1 Axes>"
      ]
     },
     "metadata": {},
     "output_type": "display_data"
    }
   ],
   "source": [
    "def fmc2 (x,y):\n",
    "    return ((((x**2)+((y/2)**2))<=1))\n",
    "\n",
    "def fmc21 (x,y):\n",
    "    return(((((x-1)**2)+((y+2)**2))<=2))\n",
    "\n",
    "def fmc211 (x,y):\n",
    "    return fmc21 (x,y)|fmc2 (x,y)\n",
    "\n",
    "a3=-3.27\n",
    "b3=4.62\n",
    "a4=-3.957\n",
    "b4=2.35\n",
    "n=20000\n",
    "x=np.random.uniform(a3,b3,n)\n",
    "y=np.random.uniform(a4,b4,n)\n",
    "plt.figure()\n",
    "plt.scatter(x,y,c=fmc211(x,y))"
   ]
  },
  {
   "cell_type": "markdown",
   "id": "18a9d985-2cfd-4698-99ed-4109292e35f0",
   "metadata": {
    "id": "18a9d985-2cfd-4698-99ed-4109292e35f0"
   },
   "source": [
    "La profundidad de la alberca debe ser de $1.35$ metros. En otras palabras\n",
    "\n",
    "$$ (z \\leq 0)\\ \\& \\ (z \\geq -1.35)$$\n",
    "\n",
    "2. Define una función para esta desigualdad de profundidad."
   ]
  },
  {
   "cell_type": "code",
   "execution_count": 69,
   "id": "0c1187ad-c570-4c30-817f-0fb4be8676bd",
   "metadata": {
    "id": "0c1187ad-c570-4c30-817f-0fb4be8676bd"
   },
   "outputs": [],
   "source": [
    "def profundidad(z):\n",
    "    return ((z<=0)&(z>=-1.35))"
   ]
  },
  {
   "cell_type": "markdown",
   "id": "055a1b61-e64a-41e6-97f7-0f5ff23374db",
   "metadata": {
    "id": "055a1b61-e64a-41e6-97f7-0f5ff23374db"
   },
   "source": [
    "3. Define una función que agrupe estas desigualdades (utiliza el operador `&` para unir las desigualdades)"
   ]
  },
  {
   "cell_type": "code",
   "execution_count": 70,
   "id": "6814eebe-9788-462c-b063-7187329d1ba4",
   "metadata": {
    "id": "6814eebe-9788-462c-b063-7187329d1ba4"
   },
   "outputs": [],
   "source": [
    "def region_a(x,y,z):\n",
    "    return fmc211(x,y) & profundidad(z)"
   ]
  },
  {
   "cell_type": "markdown",
   "id": "cb00bd98-64a5-43db-9345-cb48c43e3d6d",
   "metadata": {
    "id": "cb00bd98-64a5-43db-9345-cb48c43e3d6d"
   },
   "source": [
    "4. Aproxima el volumen."
   ]
  },
  {
   "cell_type": "code",
   "execution_count": 88,
   "id": "a9142853-2ec9-49ce-9997-246669f22832",
   "metadata": {
    "id": "a9142853-2ec9-49ce-9997-246669f22832"
   },
   "outputs": [
    {
     "data": {
      "text/plain": [
       "15.441928583155203"
      ]
     },
     "execution_count": 88,
     "metadata": {},
     "output_type": "execute_result"
    }
   ],
   "source": [
    "nVA = 10000000\n",
    "z_i = 0\n",
    "z_f = -1.35\n",
    "\n",
    "def montecarlo_VA(region_a, a3, b3, a4, b4, z_f, z_i, nVA):\n",
    "    x=np.random.uniform(a3, b3, nVA)\n",
    "    y=np.random.uniform(a4, b4, nVA)\n",
    "    z=np.random.uniform(z_f, z_i, nVA)\n",
    "    VR = (b3 - a3) * (b4 - a4) * (z_i - z_f)\n",
    "    vol_aproxi = region_a(x, y, z).mean()*VR\n",
    "    return vol_aproxi\n",
    "vol_aproxi = montecarlo_VA(region_a,a3,b3,a4,b4,z_f,z_i,nVA)\n",
    "vol_aproxi\n",
    "\n",
    "\n",
    "\n"
   ]
  },
  {
   "cell_type": "markdown",
   "id": "05a4b30d-544c-4ef6-8ad2-0c1a70e43e17",
   "metadata": {},
   "source": [
    "### Concluimos con nuestro código de Montecarlo para volúmenes aproximados , el resultado de esta ecuación nos da que el volumen aproximado con 1,000,000 de puntos es de 15.441928583155203 u^3."
   ]
  }
 ],
 "metadata": {
  "colab": {
   "provenance": []
  },
  "kernelspec": {
   "display_name": "Python 3 (ipykernel)",
   "language": "python",
   "name": "python3"
  },
  "language_info": {
   "codemirror_mode": {
    "name": "ipython",
    "version": 3
   },
   "file_extension": ".py",
   "mimetype": "text/x-python",
   "name": "python",
   "nbconvert_exporter": "python",
   "pygments_lexer": "ipython3",
   "version": "3.12.4"
  }
 },
 "nbformat": 4,
 "nbformat_minor": 5
}
