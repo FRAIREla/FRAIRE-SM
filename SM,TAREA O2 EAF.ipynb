{
 "cells": [
  {
   "cell_type": "markdown",
   "id": "f1c1064f-cd9e-44df-861c-fd89c39f5f64",
   "metadata": {},
   "source": [
    "# A01 - Python EAF\n"
   ]
  },
  {
   "cell_type": "code",
   "execution_count": 43,
   "id": "c36e54d2-ad21-4371-86d2-5e4e8d2f3a84",
   "metadata": {},
   "outputs": [
    {
     "name": "stdout",
     "output_type": "stream",
     "text": [
      "120\n"
     ]
    }
   ],
   "source": [
    "a = 5\n",
    "\n",
    "z = 1\n",
    "\n",
    "while a > 1:\n",
    "    \n",
    "    z*=a \n",
    "    a-= 1\n",
    "    \n",
    "    \n",
    "print (z) \n"
   ]
  },
  {
   "cell_type": "code",
   "execution_count": 50,
   "id": "d768a3d0-0019-4a50-8db7-b5f46206f082",
   "metadata": {},
   "outputs": [
    {
     "name": "stdin",
     "output_type": "stream",
     "text": [
      "ingrese un numero:  56\n"
     ]
    },
    {
     "name": "stdout",
     "output_type": "stream",
     "text": [
      "56 no es un numero primo :(\n"
     ]
    }
   ],
   "source": [
    "def es_primo(a):\n",
    "    if a <= 1:\n",
    "        return False\n",
    "    if a <= 3:\n",
    "        return True\n",
    "    if a % 3 == 0 or a % 2 == 0:\n",
    "        return False\n",
    "    i=5\n",
    "    while i*i <=a:\n",
    "        if a % i == 0 or a % (i + 2) == 0:\n",
    "            return False\n",
    "        i += 6\n",
    "    return True \n",
    "numero = int(input(\"ingrese un numero: \"))\n",
    "if es_primo(numero):\n",
    "    print(numero, \" es  numero primo! \")\n",
    "else:\n",
    "    print(numero, \"no es un numero primo :(\")\n",
    "\n",
    "        \n"
   ]
  },
  {
   "cell_type": "code",
   "execution_count": null,
   "id": "0b5eabb3-363c-485b-a4be-162893604ba5",
   "metadata": {},
   "outputs": [],
   "source": []
  }
 ],
 "metadata": {
  "kernelspec": {
   "display_name": "Python 3 (ipykernel)",
   "language": "python",
   "name": "python3"
  },
  "language_info": {
   "codemirror_mode": {
    "name": "ipython",
    "version": 3
   },
   "file_extension": ".py",
   "mimetype": "text/x-python",
   "name": "python",
   "nbconvert_exporter": "python",
   "pygments_lexer": "ipython3",
   "version": "3.12.4"
  }
 },
 "nbformat": 4,
 "nbformat_minor": 5
}
