{
 "cells": [
  {
   "cell_type": "markdown",
   "id": "2489fba4-ecfb-492c-aa24-6233a6ac828d",
   "metadata": {},
   "source": [
    "## ATIVIDAD 11"
   ]
  },
  {
   "cell_type": "markdown",
   "id": "388df243-289f-4156-b639-fd7486d47e2c",
   "metadata": {},
   "source": [
    "### EDUARDO AGUIRRE FRAIRE \n",
    "#### EXPEDIENTE : 751100"
   ]
  },
  {
   "cell_type": "code",
   "execution_count": 33,
   "id": "44de3579-76e6-47f3-8cb3-17e3108d5bf8",
   "metadata": {},
   "outputs": [],
   "source": [
    "# 1\n",
    "import numpy as np\n",
    "def f1(x):\n",
    "    return (np.log(1.5+np.sin(x**2)))/(x*np.exp(-x**2))\n"
   ]
  },
  {
   "cell_type": "code",
   "execution_count": 34,
   "id": "1b8c895d-b98f-40c4-984a-cfbcda29a4e7",
   "metadata": {},
   "outputs": [],
   "source": [
    "\n",
    "n = 1000000\n"
   ]
  },
  {
   "cell_type": "code",
   "execution_count": 35,
   "id": "0b921f39-bde9-4c68-a119-c9f0c8d2c881",
   "metadata": {},
   "outputs": [],
   "source": [
    "def montecarlo_tipo1(f,a,b,n) :\n",
    "    u = np.random.uniform(a,b,n)\n",
    "    return np.mean(f(u))*(b-a)\n",
    "\n",
    "integrate1 = montecarlo_tipo1(f1, 0.1, 0.3, n)\n",
    "integrate2 = montecarlo_tipo1(f1, 0.3, 0.5, n)\n",
    "integrate3 = montecarlo_tipo1(f1, 0.5, 0.7, n)\n",
    "integrate4 = montecarlo_tipo1(f1, 0.7, 0.9, n)\n",
    "integrate5 = montecarlo_tipo1(f1, 0.9, 1.1, n)"
   ]
  },
  {
   "cell_type": "code",
   "execution_count": 36,
   "id": "f7ff4e3b-84ce-433d-9731-65ed416c0e37",
   "metadata": {},
   "outputs": [
    {
     "data": {
      "text/html": [
       "<div>\n",
       "<style scoped>\n",
       "    .dataframe tbody tr th:only-of-type {\n",
       "        vertical-align: middle;\n",
       "    }\n",
       "\n",
       "    .dataframe tbody tr th {\n",
       "        vertical-align: top;\n",
       "    }\n",
       "\n",
       "    .dataframe thead th {\n",
       "        text-align: right;\n",
       "    }\n",
       "</style>\n",
       "<table border=\"1\" class=\"dataframe\">\n",
       "  <thead>\n",
       "    <tr style=\"text-align: right;\">\n",
       "      <th></th>\n",
       "      <th>integrate1</th>\n",
       "      <th>integrate2</th>\n",
       "      <th>integrate3</th>\n",
       "      <th>integrate4</th>\n",
       "      <th>integrate5</th>\n",
       "    </tr>\n",
       "  </thead>\n",
       "  <tbody>\n",
       "    <tr>\n",
       "      <th>1</th>\n",
       "      <td>0.489628</td>\n",
       "      <td>0.30211</td>\n",
       "      <td>0.296832</td>\n",
       "      <td>0.353362</td>\n",
       "      <td>0.465373</td>\n",
       "    </tr>\n",
       "  </tbody>\n",
       "</table>\n",
       "</div>"
      ],
      "text/plain": [
       "  integrate1 integrate2 integrate3 integrate4 integrate5\n",
       "1   0.489628    0.30211   0.296832   0.353362   0.465373"
      ]
     },
     "execution_count": 36,
     "metadata": {},
     "output_type": "execute_result"
    }
   ],
   "source": [
    "import pandas as pd\n",
    "tabla = pd.DataFrame(columns=[\"integrate1\", \"integrate2\",\"integrate3\",\"integrate4\",\"integrate5\"])\n",
    "tabla.loc[1,\"integrate1\"] = integrate1\n",
    "tabla.loc[1,\"integrate2\"] = integrate2\n",
    "tabla.loc[1,\"integrate3\"] = integrate3\n",
    "tabla.loc[1,\"integrate4\"] = integrate4\n",
    "tabla.loc[1,\"integrate5\"] = integrate5\n",
    "tabla"
   ]
  },
  {
   "cell_type": "code",
   "execution_count": null,
   "id": "d9fdf2e1-21c7-44f7-be9b-db35e1f2ca79",
   "metadata": {},
   "outputs": [],
   "source": [
    "y_03 = 0.1 + 0.489628"
   ]
  },
  {
   "cell_type": "code",
   "execution_count": null,
   "id": "0b578c01-c4bd-4534-82cb-18053d8a6305",
   "metadata": {},
   "outputs": [],
   "source": [
    "y_05 = y_03 + 0.30211"
   ]
  },
  {
   "cell_type": "code",
   "execution_count": null,
   "id": "a20454f6-e696-48ab-9ef9-c18c638f4b6c",
   "metadata": {},
   "outputs": [],
   "source": [
    "y_07 = y_05 + 0.296832\t"
   ]
  },
  {
   "cell_type": "code",
   "execution_count": null,
   "id": "fea6e2df-fd55-4066-9103-c0f56b52cb06",
   "metadata": {},
   "outputs": [],
   "source": [
    "y_09 = y_07 + 0.353362"
   ]
  },
  {
   "cell_type": "code",
   "execution_count": null,
   "id": "32a23c13-2fac-4acb-8976-dc52d75c0eb6",
   "metadata": {},
   "outputs": [],
   "source": [
    "y1_1 = y_09 + 0.465373"
   ]
  }
 ],
 "metadata": {
  "kernelspec": {
   "display_name": "Python 3 (ipykernel)",
   "language": "python",
   "name": "python3"
  },
  "language_info": {
   "codemirror_mode": {
    "name": "ipython",
    "version": 3
   },
   "file_extension": ".py",
   "mimetype": "text/x-python",
   "name": "python",
   "nbconvert_exporter": "python",
   "pygments_lexer": "ipython3",
   "version": "3.12.4"
  }
 },
 "nbformat": 4,
 "nbformat_minor": 5
}
