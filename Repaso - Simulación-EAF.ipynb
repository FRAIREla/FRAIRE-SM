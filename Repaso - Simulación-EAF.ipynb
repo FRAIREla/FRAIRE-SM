{
 "cells": [
  {
   "cell_type": "markdown",
   "metadata": {},
   "source": [
    "# Repaso - Módulo 2\n",
    "---"
   ]
  },
  {
   "cell_type": "markdown",
   "metadata": {},
   "source": [
    "\n",
    "## Evaluación numérica de integrales utilizando Montecarlo\n",
    "Escriba la función para integrar por el método Montecarlo de tipo 1"
   ]
  },
  {
   "cell_type": "code",
   "execution_count": null,
   "metadata": {},
   "outputs": [],
   "source": []
  },
  {
   "cell_type": "code",
   "execution_count": null,
   "metadata": {},
   "outputs": [],
   "source": []
  },
  {
   "cell_type": "code",
   "execution_count": null,
   "metadata": {},
   "outputs": [],
   "source": []
  },
  {
   "cell_type": "markdown",
   "metadata": {
    "collapsed": true,
    "jupyter": {
     "outputs_hidden": true
    }
   },
   "source": [
    "Considere las funciones $f_1(x)=\\sqrt{1+x^{4}}$, $f_2(x)=\\ln(\\ln x)$, $f_3(x)=\\frac {1}{\\ln x}$, y $f_4(x)=e^{-{\\frac {x^{2}}{2}}}$.\n",
    "\n",
    "Utilizar la función anterior para realizar la evaluación numérica de las integrales de las funciones anteriores en el intervalo $(4,5)$. Poner los resultados en una tabla cuyas filas correspondan a la cantidad de términos utilizados en la aproximación (usar 10, 100, 1000, 10000 y 100000 términos) y cuyas columnas correspondan a las funciones."
   ]
  },
  {
   "cell_type": "code",
   "execution_count": 3,
   "metadata": {},
   "outputs": [],
   "source": [
    "import numpy as np\n",
    "def f1(x):\n",
    "    return (np.sqrt(1+x**4))\n",
    "def f2(x):\n",
    "    return (np.log(np.log(x)))\n",
    "def f3(x):\n",
    "    return (1/np.log(x))\n",
    "def f4(x):\n",
    "    return (np.exp(-x**2/2))\n",
    "    "
   ]
  },
  {
   "cell_type": "code",
   "execution_count": 4,
   "metadata": {},
   "outputs": [],
   "source": [
    "n = 10\n",
    "n1 = 100\n",
    "n2 = 1000\n",
    "n3 = 10000 \n",
    "n4 = 100000"
   ]
  },
  {
   "cell_type": "code",
   "execution_count": 5,
   "metadata": {},
   "outputs": [
    {
     "data": {
      "text/plain": [
       "7.906190005724032e-05"
      ]
     },
     "execution_count": 5,
     "metadata": {},
     "output_type": "execute_result"
    }
   ],
   "source": [
    "def montecarlo_tipo1(f,a,b,n) :\n",
    "    u = np.random.uniform(a,b,n)\n",
    "    return np.mean(f(u))*(b-a)\n",
    "\n",
    "integrate1_0 = montecarlo_tipo1(f1, 4, 5, n)\n",
    "integrate1_1 = montecarlo_tipo1(f1, 4, 5, n1)\n",
    "integrate1_2 = montecarlo_tipo1(f1, 4, 5, n2)\n",
    "integrate1_3 = montecarlo_tipo1(f1, 4, 5, n3)\n",
    "integrate1_4 = montecarlo_tipo1(f1, 4, 5, n4)\n",
    "\n",
    "integrate2_0 = montecarlo_tipo1(f2, 4, 5, n)\n",
    "integrate2_1 = montecarlo_tipo1(f2, 4, 5, n1)\n",
    "integrate2_2 = montecarlo_tipo1(f2, 4, 5, n2)\n",
    "integrate2_3 = montecarlo_tipo1(f2, 4, 5, n3)\n",
    "integrate2_4 = montecarlo_tipo1(f2, 4, 5, n4)\n",
    "\n",
    "integrate3_0 = montecarlo_tipo1(f3, 4, 5, n)\n",
    "integrate3_1 = montecarlo_tipo1(f3, 4, 5, n1)\n",
    "integrate3_2 = montecarlo_tipo1(f3, 4, 5, n2)\n",
    "integrate3_3 = montecarlo_tipo1(f3, 4, 5, n3)\n",
    "integrate3_4 = montecarlo_tipo1(f3, 4, 5, n4)\n",
    "\n",
    "integrate4_0 = montecarlo_tipo1(f4, 4, 5, n)\n",
    "integrate4_1 = montecarlo_tipo1(f4, 4, 5, n1)\n",
    "integrate4_2 = montecarlo_tipo1(f4, 4, 5, n2)\n",
    "integrate4_3 = montecarlo_tipo1(f4, 4, 5, n3)\n",
    "integrate4_4 = montecarlo_tipo1(f4, 4, 5, n4)\n"
   ]
  },
  {
   "cell_type": "code",
   "execution_count": 9,
   "metadata": {},
   "outputs": [
    {
     "data": {
      "text/html": [
       "<div>\n",
       "<style scoped>\n",
       "    .dataframe tbody tr th:only-of-type {\n",
       "        vertical-align: middle;\n",
       "    }\n",
       "\n",
       "    .dataframe tbody tr th {\n",
       "        vertical-align: top;\n",
       "    }\n",
       "\n",
       "    .dataframe thead th {\n",
       "        text-align: right;\n",
       "    }\n",
       "</style>\n",
       "<table border=\"1\" class=\"dataframe\">\n",
       "  <thead>\n",
       "    <tr style=\"text-align: right;\">\n",
       "      <th></th>\n",
       "      <th>FUNCIÓN1</th>\n",
       "      <th>FUNCIÓN2</th>\n",
       "      <th>FUNCIÓN3</th>\n",
       "      <th>FUNCIÓN4</th>\n",
       "    </tr>\n",
       "  </thead>\n",
       "  <tbody>\n",
       "    <tr>\n",
       "      <th>EVALUADO EN 10</th>\n",
       "      <td>20.641045</td>\n",
       "      <td>0.387895</td>\n",
       "      <td>0.675284</td>\n",
       "      <td>0.675284</td>\n",
       "    </tr>\n",
       "    <tr>\n",
       "      <th>EVALUADO EN 100</th>\n",
       "      <td>20.330461</td>\n",
       "      <td>0.408272</td>\n",
       "      <td>0.668176</td>\n",
       "      <td>0.668176</td>\n",
       "    </tr>\n",
       "    <tr>\n",
       "      <th>EVALUADO EN 1000</th>\n",
       "      <td>20.392461</td>\n",
       "      <td>0.405519</td>\n",
       "      <td>0.665750</td>\n",
       "      <td>0.665750</td>\n",
       "    </tr>\n",
       "    <tr>\n",
       "      <th>EVALUADO EN 10000</th>\n",
       "      <td>20.331967</td>\n",
       "      <td>0.405133</td>\n",
       "      <td>0.666747</td>\n",
       "      <td>0.666747</td>\n",
       "    </tr>\n",
       "    <tr>\n",
       "      <th>EVALUADO EN 100000</th>\n",
       "      <td>20.349963</td>\n",
       "      <td>0.405903</td>\n",
       "      <td>0.666986</td>\n",
       "      <td>0.666986</td>\n",
       "    </tr>\n",
       "  </tbody>\n",
       "</table>\n",
       "</div>"
      ],
      "text/plain": [
       "                     FUNCIÓN1  FUNCIÓN2  FUNCIÓN3  FUNCIÓN4\n",
       "EVALUADO EN 10      20.641045  0.387895  0.675284  0.675284\n",
       "EVALUADO EN 100     20.330461  0.408272  0.668176  0.668176\n",
       "EVALUADO EN 1000    20.392461  0.405519  0.665750  0.665750\n",
       "EVALUADO EN 10000   20.331967  0.405133  0.666747  0.666747\n",
       "EVALUADO EN 100000  20.349963  0.405903  0.666986  0.666986"
      ]
     },
     "execution_count": 9,
     "metadata": {},
     "output_type": "execute_result"
    }
   ],
   "source": [
    "import pandas as pd\n",
    "data = {\n",
    "    'FUNCIÓN1' : [ integrate1_0,integrate1_1,integrate1_2,integrate1_3,integrate1_4],\n",
    "    'FUNCIÓN2' : [ integrate2_0,integrate2_1,integrate2_2,integrate2_3,integrate2_4],\n",
    "    'FUNCIÓN3' : [ integrate3_0,integrate3_1,integrate3_2,integrate3_3,integrate3_4],\n",
    "    'FUNCIÓN4' : [ integrate3_0,integrate3_1,integrate3_2,integrate3_3,integrate3_4]\n",
    "}\n",
    "\n",
    "RESULTADOS = pd.DataFrame(data, index = [\"EVALUADO EN 10\",\"EVALUADO EN 100\",\"EVALUADO EN 1000\",\"EVALUADO EN 10000\",\"EVALUADO EN 100000\"])\n",
    "RESULTADOS"
   ]
  },
  {
   "cell_type": "markdown",
   "metadata": {},
   "source": [
    "## Montecarlo Tipo 2\n",
    "Aproximar el área de la región descrita por\n",
    "\n",
    "$$x^2+2y^2\\leq-2x+8y-7$$\n",
    "\n",
    "Poner los resultados en una tabla cuyas filas correspondan a la cantidad de términos utilizados en la aproximación (usar 10, 100, 1000, 10000 y 100000 términos) y en las columnas el valor de aproximación y el error de integración.\n",
    "\n",
    "[A ~ 4.4]\n",
    "\n",
    "Definir unos límites adecuados $a_1$, $b_1$, $a_2$ y $b_2$, para la región $R=\\left[a_1,b_1\\right]\\times\\left[a_2,b_2\\right]$ y grafíque esta región."
   ]
  },
  {
   "cell_type": "code",
   "execution_count": null,
   "metadata": {},
   "outputs": [],
   "source": []
  },
  {
   "cell_type": "code",
   "execution_count": 39,
   "metadata": {},
   "outputs": [],
   "source": [
    "import matplotlib.pyplot as plt\n",
    "import pandas as pd\n",
    "import numpy as np"
   ]
  },
  {
   "cell_type": "code",
   "execution_count": 54,
   "metadata": {},
   "outputs": [
    {
     "data": {
      "text/plain": [
       "<matplotlib.collections.PathCollection at 0x2c718d56ea0>"
      ]
     },
     "execution_count": 54,
     "metadata": {},
     "output_type": "execute_result"
    },
    {
     "data": {
      "image/png": "[encoded data removed]",
      "text/plain": [
       "<Figure size 640x480 with 1 Axes>"
      ]
     },
     "metadata": {},
     "output_type": "display_data"
    }
   ],
   "source": [
    "def f0(x,y):\n",
    "    return (x**2+2*y**2<=-2*x+8*y-7)\n",
    "    a1=-2.5\n",
    "    b1=0.5\n",
    "    a2=0.9\n",
    "    b2=3.2\n",
    "    n=10000\n",
    "    x = np.random.uniform(a1,b1,n)\n",
    "    y = np.random.uniform(a2,b2,n)\n",
    "plt.figure()\n",
    "plt.scatter(x,y,c=f0(x,y))"
   ]
  },
  {
   "cell_type": "code",
   "execution_count": 56,
   "metadata": {},
   "outputs": [
    {
     "data": {
      "text/html": [
       "<div>\n",
       "<style scoped>\n",
       "    .dataframe tbody tr th:only-of-type {\n",
       "        vertical-align: middle;\n",
       "    }\n",
       "\n",
       "    .dataframe tbody tr th {\n",
       "        vertical-align: top;\n",
       "    }\n",
       "\n",
       "    .dataframe thead th {\n",
       "        text-align: right;\n",
       "    }\n",
       "</style>\n",
       "<table border=\"1\" class=\"dataframe\">\n",
       "  <thead>\n",
       "    <tr style=\"text-align: right;\">\n",
       "      <th></th>\n",
       "      <th>Area aprox</th>\n",
       "    </tr>\n",
       "  </thead>\n",
       "  <tbody>\n",
       "    <tr>\n",
       "      <th>10.0</th>\n",
       "      <td>6.21</td>\n",
       "    </tr>\n",
       "    <tr>\n",
       "      <th>100.0</th>\n",
       "      <td>4.968</td>\n",
       "    </tr>\n",
       "    <tr>\n",
       "      <th>1000.0</th>\n",
       "      <td>4.3953</td>\n",
       "    </tr>\n",
       "    <tr>\n",
       "      <th>10000.0</th>\n",
       "      <td>4.41876</td>\n",
       "    </tr>\n",
       "    <tr>\n",
       "      <th>100000.0</th>\n",
       "      <td>4.437183</td>\n",
       "    </tr>\n",
       "  </tbody>\n",
       "</table>\n",
       "</div>"
      ],
      "text/plain": [
       "         Area aprox\n",
       "10.0           6.21\n",
       "100.0         4.968\n",
       "1000.0       4.3953\n",
       "10000.0     4.41876\n",
       "100000.0   4.437183"
      ]
     },
     "execution_count": 56,
     "metadata": {},
     "output_type": "execute_result"
    }
   ],
   "source": [
    "def f1 (f0,a1,b1,a2,b2,n):\n",
    "    x=np.random.uniform(a1,b1,n)\n",
    "    y=np.random.uniform(a2,b2,n)\n",
    "    AR=(b1-a1)*(b2-a2)\n",
    "    return f0(x,y).mean()*AR\n",
    "    \n",
    "Num = np.logspace(1,5,5)\n",
    "table = pd.DataFrame(columns=[\"Area aprox\"], index = Num)\n",
    "\n",
    "for i in Num:\n",
    "     area_aprox = f1(f0,a1,b1,a2,b2, int(i))\n",
    "     table.loc[i,\"Area aprox\"] = area_aprox\n",
    "table"
   ]
  },
  {
   "cell_type": "code",
   "execution_count": 41,
   "metadata": {},
   "outputs": [],
   "source": []
  },
  {
   "cell_type": "markdown",
   "metadata": {},
   "source": [
    "---\n",
    "## Caminata aleatoria\n",
    "\n",
    "1. Lee el archivo `MSFT_2023.csv` en un DataFrame de pandas.\n"
   ]
  },
  {
   "cell_type": "code",
   "execution_count": null,
   "metadata": {},
   "outputs": [],
   "source": []
  },
  {
   "cell_type": "code",
   "execution_count": null,
   "metadata": {},
   "outputs": [],
   "source": []
  },
  {
   "cell_type": "code",
   "execution_count": null,
   "metadata": {},
   "outputs": [],
   "source": []
  },
  {
   "cell_type": "markdown",
   "metadata": {},
   "source": [
    "El archivo contiene los datos de precio de cierre de la acción de Microsoft para el usuario promedio (no fines de semana ni dias feriados). El precio de una acción se considera una caminata aleatoria.\n",
    "\n",
    "2. Grafica la columna `Adj Close` (plot)"
   ]
  },
  {
   "cell_type": "code",
   "execution_count": null,
   "metadata": {},
   "outputs": [],
   "source": []
  },
  {
   "cell_type": "code",
   "execution_count": null,
   "metadata": {},
   "outputs": [],
   "source": []
  },
  {
   "cell_type": "code",
   "execution_count": null,
   "metadata": {},
   "outputs": [],
   "source": []
  },
  {
   "cell_type": "markdown",
   "metadata": {},
   "source": [
    "3. Realiza un histograma de los datos."
   ]
  },
  {
   "cell_type": "code",
   "execution_count": null,
   "metadata": {},
   "outputs": [],
   "source": []
  },
  {
   "cell_type": "code",
   "execution_count": null,
   "metadata": {},
   "outputs": [],
   "source": []
  },
  {
   "cell_type": "code",
   "execution_count": null,
   "metadata": {},
   "outputs": [],
   "source": []
  },
  {
   "cell_type": "markdown",
   "metadata": {},
   "source": [
    "Los datos de acciones se comportan como variables aleatorias, sin una distribución que pueda describirlos con certeza.\n",
    "\n",
    "4. Aplica el teorema del límite central y agrupa los datos calculando su rendimiento:\n",
    "\n",
    "$$ R = \\frac{x_{i+1} - x_i}{x_i} $$\n",
    "\n",
    "En otras palabras, calcula el cambio porcentual entre los días."
   ]
  },
  {
   "cell_type": "code",
   "execution_count": null,
   "metadata": {},
   "outputs": [],
   "source": []
  },
  {
   "cell_type": "code",
   "execution_count": null,
   "metadata": {},
   "outputs": [],
   "source": []
  },
  {
   "cell_type": "code",
   "execution_count": null,
   "metadata": {},
   "outputs": [],
   "source": []
  },
  {
   "cell_type": "markdown",
   "metadata": {},
   "source": [
    "5. Realiza un histograma de los rendimientos calculados."
   ]
  },
  {
   "cell_type": "code",
   "execution_count": null,
   "metadata": {},
   "outputs": [],
   "source": []
  },
  {
   "cell_type": "code",
   "execution_count": null,
   "metadata": {},
   "outputs": [],
   "source": []
  },
  {
   "cell_type": "code",
   "execution_count": null,
   "metadata": {},
   "outputs": [],
   "source": []
  },
  {
   "cell_type": "markdown",
   "metadata": {},
   "source": [
    "Los rendimientos, al ser una agrupación de una distribución (por teorema del límite central) se parecen un poco más a una distribución normal. Idealmente se haría una prueba de hipótesis para comprobar que sí son normales los datos, pero por el momento asumamos que sí lo son.\n",
    "\n",
    "6. Extrae la media y la desviación estándar de los rendimientos."
   ]
  },
  {
   "cell_type": "code",
   "execution_count": null,
   "metadata": {},
   "outputs": [],
   "source": []
  },
  {
   "cell_type": "code",
   "execution_count": null,
   "metadata": {},
   "outputs": [],
   "source": []
  },
  {
   "cell_type": "code",
   "execution_count": null,
   "metadata": {},
   "outputs": [],
   "source": []
  },
  {
   "cell_type": "markdown",
   "metadata": {},
   "source": [
    "7. Simula 30 días de rendimientos (toma muestras aleatorias de una distribución normal con las características extraídas) 10,000 veces. Suma un 1 a todos los valores para considerar el 100\\% inicial. (30 renglones, 10000 columnas)"
   ]
  },
  {
   "cell_type": "code",
   "execution_count": null,
   "metadata": {},
   "outputs": [],
   "source": []
  },
  {
   "cell_type": "code",
   "execution_count": null,
   "metadata": {},
   "outputs": [],
   "source": []
  },
  {
   "cell_type": "code",
   "execution_count": null,
   "metadata": {},
   "outputs": [],
   "source": []
  },
  {
   "cell_type": "markdown",
   "metadata": {},
   "source": [
    "Si se empieza con el 100\\% del precio de la acción, el precio de ésta cambiaría día con día dados los rendimientos simulados:\n",
    "\n",
    "$$ c_1 = c_{0}r_1 $$\n",
    "\n",
    "Y al día siguiente:\n",
    "\n",
    "$$ c_{2} = c_1 r_{2} = c_{0} r_1 r_{2} $$\n",
    "\n",
    "Pasado mañana:\n",
    "\n",
    "$$ c_{3} = c_{2} r_{3} = c_{0} r_1 r_{2} r_3 $$\n",
    "\n",
    "Suponiendo un día 9:\n",
    "\n",
    "$$ c_9 = c_8 r_9 = c_0 r_1 r_2 r_3 r_4 r_5 r_6 r_7 r_8 r_9 $$\n",
    "\n",
    "Por lo que tenemos que acumular el producto de los rendimientos."
   ]
  },
  {
   "cell_type": "markdown",
   "metadata": {},
   "source": [
    "8. Utiliza el comando `cumprod` sobre las columnas de la matriz de `numpy` que contiene las simulaciones de los rendimientos. `obj.cumprod(axis=0)`"
   ]
  },
  {
   "cell_type": "code",
   "execution_count": null,
   "metadata": {},
   "outputs": [],
   "source": []
  },
  {
   "cell_type": "code",
   "execution_count": null,
   "metadata": {},
   "outputs": [],
   "source": []
  },
  {
   "cell_type": "code",
   "execution_count": null,
   "metadata": {},
   "outputs": [],
   "source": []
  },
  {
   "cell_type": "markdown",
   "metadata": {},
   "source": [
    "9. Multiplica el precio de la acción del último día registrado en los datos iniciales de Microsoft por la matriz de rendimientos acumulados."
   ]
  },
  {
   "cell_type": "code",
   "execution_count": null,
   "metadata": {},
   "outputs": [],
   "source": []
  },
  {
   "cell_type": "code",
   "execution_count": null,
   "metadata": {},
   "outputs": [],
   "source": []
  },
  {
   "cell_type": "code",
   "execution_count": null,
   "metadata": {},
   "outputs": [],
   "source": []
  },
  {
   "cell_type": "markdown",
   "metadata": {},
   "source": [
    "Ahora tienes 10,000 simulaciones conservadoras (mientras se mantenga la misma tendencia en rendimientos) de precios de las acciones de Microsoft de un mes.\n",
    "\n",
    "10. En promedio, ¿cuánto valen las acciones de Microsoft en el día 30? [~397]"
   ]
  },
  {
   "cell_type": "code",
   "execution_count": null,
   "metadata": {},
   "outputs": [],
   "source": []
  },
  {
   "cell_type": "code",
   "execution_count": null,
   "metadata": {},
   "outputs": [],
   "source": []
  },
  {
   "cell_type": "code",
   "execution_count": null,
   "metadata": {},
   "outputs": [],
   "source": []
  },
  {
   "cell_type": "markdown",
   "metadata": {},
   "source": [
    "11. ¿Cuál es la probabilidad de que el precio exceda 400? [~44\\%]"
   ]
  },
  {
   "cell_type": "code",
   "execution_count": null,
   "metadata": {},
   "outputs": [],
   "source": []
  },
  {
   "cell_type": "code",
   "execution_count": null,
   "metadata": {},
   "outputs": [],
   "source": []
  },
  {
   "cell_type": "code",
   "execution_count": null,
   "metadata": {},
   "outputs": [],
   "source": []
  },
  {
   "cell_type": "markdown",
   "metadata": {},
   "source": [
    "## Probabilidad\n",
    "\n",
    "Tienes una baraja de 50 cartas de 5 colores (10 cartas de cada color) con números del 1 al 10 (5 cartas de cada número). ¿Cuál es la probabilidad de que al tomar dos cartas al azar (sin reemplazo) las cartas no sean ni del mismo número ni del mismo color? [36/49]\n",
    "\n"
   ]
  },
  {
   "cell_type": "code",
   "execution_count": null,
   "metadata": {},
   "outputs": [],
   "source": []
  },
  {
   "cell_type": "code",
   "execution_count": null,
   "metadata": {},
   "outputs": [],
   "source": []
  },
  {
   "cell_type": "code",
   "execution_count": null,
   "metadata": {},
   "outputs": [],
   "source": []
  }
 ],
 "metadata": {
  "kernelspec": {
   "display_name": "Python 3 (ipykernel)",
   "language": "python",
   "name": "python3"
  },
  "language_info": {
   "codemirror_mode": {
    "name": "ipython",
    "version": 3
   },
   "file_extension": ".py",
   "mimetype": "text/x-python",
   "name": "python",
   "nbconvert_exporter": "python",
   "pygments_lexer": "ipython3",
   "version": "3.12.4"
  }
 },
 "nbformat": 4,
 "nbformat_minor": 4
}
