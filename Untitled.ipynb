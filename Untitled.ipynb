{
 "cells": [
  {
   "cell_type": "code",
   "execution_count": 2,
   "id": "8608fee2-7ba1-460a-a64c-9a108d06523e",
   "metadata": {},
   "outputs": [
    {
     "data": {
      "text/plain": [
       "2"
      ]
     },
     "execution_count": 2,
     "metadata": {},
     "output_type": "execute_result"
    }
   ],
   "source": [
    "1+1"
   ]
  },
  {
   "cell_type": "markdown",
   "id": "4033eedb-d591-418d-a8d5-adc667a0a19b",
   "metadata": {
    "jp-MarkdownHeadingCollapsed": true
   },
   "source": [
    "# SIMU"
   ]
  },
  {
   "cell_type": "code",
   "execution_count": 5,
   "id": "eec73972-daf1-4992-8ec3-58d3128b3515",
   "metadata": {},
   "outputs": [
    {
     "data": {
      "text/plain": [
       "3.141592653589793"
      ]
     },
     "execution_count": 5,
     "metadata": {},
     "output_type": "execute_result"
    }
   ],
   "source": [
    "import numpy as np \n",
    "np.pi"
   ]
  },
  {
   "cell_type": "markdown",
   "id": "9c771acd-35de-40ca-8a2c-32dae24456ea",
   "metadata": {},
   "source": [
    "# Calificacion de alumnos"
   ]
  },
  {
   "cell_type": "markdown",
   "id": "9bc2fd4a-c26a-4121-9e5f-fe1fabb83047",
   "metadata": {},
   "source": [
    "    * rafael\n",
    "    * raul   \n",
    "    * pedro "
   ]
  },
  {
   "cell_type": "code",
   "execution_count": 7,
   "id": "fe858a7d-5c65-486d-b267-055a3a25ce56",
   "metadata": {},
   "outputs": [],
   "source": [
    "# mediante metodos heuristicos se aprendio que la ecuacion de riemman es:"
   ]
  },
  {
   "cell_type": "markdown",
   "id": "c55297d2-aef9-4673-b632-f68bca0a14b1",
   "metadata": {},
   "source": [
    "$$ \\frac{3}{5} $$"
   ]
  },
  {
   "cell_type": "markdown",
   "id": "637016f8-94cb-4c18-a8f2-65748020c6d2",
   "metadata": {},
   "source": [
    "$$ e^{e^{e^{e}}} $$\n"
   ]
  },
  {
   "cell_type": "markdown",
   "id": "523ff9fe-c928-459f-9043-97497f7e06ba",
   "metadata": {},
   "source": []
  }
 ],
 "metadata": {
  "kernelspec": {
   "display_name": "Python 3 (ipykernel)",
   "language": "python",
   "name": "python3"
  },
  "language_info": {
   "codemirror_mode": {
    "name": "ipython",
    "version": 3
   },
   "file_extension": ".py",
   "mimetype": "text/x-python",
   "name": "python",
   "nbconvert_exporter": "python",
   "pygments_lexer": "ipython3",
   "version": "3.12.4"
  }
 },
 "nbformat": 4,
 "nbformat_minor": 5
}
